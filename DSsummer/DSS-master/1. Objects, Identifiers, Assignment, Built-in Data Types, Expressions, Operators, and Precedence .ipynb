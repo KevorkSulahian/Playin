{
 "cells": [
  {
   "cell_type": "markdown",
   "metadata": {},
   "source": [
    "### Objects, Identifiers and Assignment"
   ]
  },
  {
   "cell_type": "markdown",
   "metadata": {},
   "source": [
    "Python is an object-oriented programming language and classes form the basis for all data types. All data in a Python program is represented by objects or by relations between objects. Every object has an **identity**, a **type** and a **value**. Identifiers are used to access objects. **Assignment statement** is used to connect identifier and object."
   ]
  },
  {
   "cell_type": "markdown",
   "metadata": {},
   "source": [
    "#### Example"
   ]
  },
  {
   "cell_type": "code",
   "execution_count": 2,
   "metadata": {},
   "outputs": [
    {
     "data": {
      "text/plain": [
       "1"
      ]
     },
     "execution_count": 2,
     "metadata": {},
     "output_type": "execute_result"
    }
   ],
   "source": [
    "# 1 is an object in Python\n",
    "1"
   ]
  },
  {
   "cell_type": "code",
   "execution_count": 3,
   "metadata": {},
   "outputs": [
    {
     "data": {
      "text/plain": [
       "int"
      ]
     },
     "execution_count": 3,
     "metadata": {},
     "output_type": "execute_result"
    }
   ],
   "source": [
    "# 1 is part of buid-in class \"int\"\n",
    "type(1)"
   ]
  },
  {
   "cell_type": "code",
   "execution_count": 4,
   "metadata": {},
   "outputs": [
    {
     "data": {
      "text/plain": [
       "140720078230336"
      ]
     },
     "execution_count": 4,
     "metadata": {},
     "output_type": "execute_result"
    }
   ],
   "source": [
    "# 1 has its id in the memory, which does not change\n",
    "id(1)"
   ]
  },
  {
   "cell_type": "code",
   "execution_count": 5,
   "metadata": {},
   "outputs": [],
   "source": [
    "# Assigning 1 to identifier \"something\". After this \"something\" will have type, id and value of 1\n",
    "something = 1"
   ]
  },
  {
   "cell_type": "code",
   "execution_count": 6,
   "metadata": {},
   "outputs": [
    {
     "data": {
      "text/plain": [
       "1"
      ]
     },
     "execution_count": 6,
     "metadata": {},
     "output_type": "execute_result"
    }
   ],
   "source": [
    "# Now value of \"something\" is 1\n",
    "something"
   ]
  },
  {
   "cell_type": "code",
   "execution_count": 7,
   "metadata": {},
   "outputs": [
    {
     "data": {
      "text/plain": [
       "int"
      ]
     },
     "execution_count": 7,
     "metadata": {},
     "output_type": "execute_result"
    }
   ],
   "source": [
    "# Type of \"something\" is int\n",
    "type(something)"
   ]
  },
  {
   "cell_type": "markdown",
   "metadata": {},
   "source": [
    "**Identifiers** in Python are case-sensitive. Identifiers can be composed of almost any combination of letters, numerals, and underscore characters. The primary restrictions are that an identifier cannot begin with a numeral, and that there are 33 specially reserved words that cannot be used as identifiers.\n",
    "\n",
    "**Reserved words**\n",
    "\n",
    "| ---- | ----| ---- |---|---|---|--- |---|\n",
    "|---|--- |---|---| --| ----| ---| ---|\n",
    "|False|  as |continue| else| from| in| not| return| \n",
    "|None |assert| def |except| global| is| or| try|\n",
    "|True| break |del |finally |if |lambda |pass |while|\n",
    "|and| class |elif |for| import| nonlocal |raise |with|\n",
    "|yield|"
   ]
  },
  {
   "cell_type": "markdown",
   "metadata": {},
   "source": [
    "Python allows multiple assignments in the same line. The number of identifiers on the left side of the equation sign must be equal to the number of objects on the right side of the equation. Objects can be in multiple forms: strings, list, sets, dictionaries, etc.."
   ]
  },
  {
   "cell_type": "code",
   "execution_count": 8,
   "metadata": {},
   "outputs": [],
   "source": [
    "a, b, c = 1, 2, 3"
   ]
  },
  {
   "cell_type": "code",
   "execution_count": 9,
   "metadata": {},
   "outputs": [
    {
     "name": "stdout",
     "output_type": "stream",
     "text": [
      "1\n",
      "2\n",
      "3\n"
     ]
    }
   ],
   "source": [
    "print(a)\n",
    "print(b)\n",
    "print(c)"
   ]
  },
  {
   "cell_type": "markdown",
   "metadata": {},
   "source": [
    "## Built-in Data types"
   ]
  },
  {
   "cell_type": "markdown",
   "metadata": {},
   "source": [
    "The below table provides a summary of commonly used, built-in classes in Python. \n",
    "A class is immutable if each object of that class has a fixed value upon instantiation that cannot subsequently be changed. Examples will be provided when covering lists."
   ]
  },
  {
   "cell_type": "markdown",
   "metadata": {},
   "source": [
    "| Class | Description | Immutable |\n",
    "| :------:|:------:|:--------:|\n",
    "| bool | Boolean value | +|\n",
    "| int | integer (arbitrary magnitude)| + |\n",
    "| float | floating-point number | + |\n",
    "| list | mutable sequence of objects |  |\n",
    "| tuple | immutable sequence of objects | + |\n",
    "| str | character string | + |\n",
    "| set | unordered set of distinct objects |  |\n",
    "| frozentset | immutable form of set class | +|\n",
    "|  dict | associative mapping (aka dictionary) |  |"
   ]
  },
  {
   "cell_type": "markdown",
   "metadata": {},
   "source": [
    "We are not going to cover frozenset data type as it is used rarely."
   ]
  },
  {
   "cell_type": "markdown",
   "metadata": {},
   "source": [
    "### bool\n",
    "Bool is the type of the built-in values True and False. In fact, conditional expressions will accept values of any type, treating special ones like (False, 0,  ””, [], {}, None) equivalent to False, and all other values as equivalent to True.\n"
   ]
  },
  {
   "cell_type": "code",
   "execution_count": 10,
   "metadata": {},
   "outputs": [
    {
     "data": {
      "text/plain": [
       "True"
      ]
     },
     "execution_count": 10,
     "metadata": {},
     "output_type": "execute_result"
    }
   ],
   "source": [
    "True"
   ]
  },
  {
   "cell_type": "code",
   "execution_count": 11,
   "metadata": {},
   "outputs": [
    {
     "data": {
      "text/plain": [
       "False"
      ]
     },
     "execution_count": 11,
     "metadata": {},
     "output_type": "execute_result"
    }
   ],
   "source": [
    "False"
   ]
  },
  {
   "cell_type": "code",
   "execution_count": 12,
   "metadata": {},
   "outputs": [
    {
     "data": {
      "text/plain": [
       "False"
      ]
     },
     "execution_count": 12,
     "metadata": {},
     "output_type": "execute_result"
    }
   ],
   "source": [
    "bool(0)"
   ]
  },
  {
   "cell_type": "code",
   "execution_count": 13,
   "metadata": {},
   "outputs": [
    {
     "data": {
      "text/plain": [
       "True"
      ]
     },
     "execution_count": 13,
     "metadata": {},
     "output_type": "execute_result"
    }
   ],
   "source": [
    "bool(1)"
   ]
  },
  {
   "cell_type": "code",
   "execution_count": 14,
   "metadata": {},
   "outputs": [
    {
     "data": {
      "text/plain": [
       "False"
      ]
     },
     "execution_count": 14,
     "metadata": {},
     "output_type": "execute_result"
    }
   ],
   "source": [
    "bool(None)"
   ]
  },
  {
   "cell_type": "markdown",
   "metadata": {},
   "source": [
    "### None\n",
    "This type has a single value. There is a single object with this value. This object is accessed through the built-in name None. It is used to signify the absence of a value in many situations, e.g., it is returned from functions that don’t explicitly return anything. Its truth value is false.\n"
   ]
  },
  {
   "cell_type": "code",
   "execution_count": 15,
   "metadata": {},
   "outputs": [
    {
     "name": "stdout",
     "output_type": "stream",
     "text": [
      "None\n"
     ]
    }
   ],
   "source": [
    "a = None\n",
    "print(a)"
   ]
  },
  {
   "cell_type": "code",
   "execution_count": 16,
   "metadata": {},
   "outputs": [
    {
     "data": {
      "text/plain": [
       "False"
      ]
     },
     "execution_count": 16,
     "metadata": {},
     "output_type": "execute_result"
    }
   ],
   "source": [
    "bool(None)"
   ]
  },
  {
   "cell_type": "markdown",
   "metadata": {},
   "source": [
    "### Numeric types\n",
    "*int* - Integers (non-limited length)  \n",
    "*float* - Floating-point numbers  \n",
    "*complex* - Complex Numbers  "
   ]
  },
  {
   "cell_type": "markdown",
   "metadata": {},
   "source": [
    "### Integers\n"
   ]
  },
  {
   "cell_type": "code",
   "execution_count": 17,
   "metadata": {},
   "outputs": [
    {
     "name": "stdout",
     "output_type": "stream",
     "text": [
      "<class 'int'> 2\n",
      "<class 'int'> 10715086071862673209484250490600018105614048117055336074437503883703510511249361224931983788156958581275946729175531468251871452856923140435984577574698574803934567774824230985421074605062371141877954182153046474983581941267398767559165543946077062914571196477686542167660429831652624386837205668069376\n"
     ]
    }
   ],
   "source": [
    "a = 2\n",
    "print (type(a), a)\n",
    "\n",
    "a = 2**1000\n",
    "print (type(a), a)"
   ]
  },
  {
   "cell_type": "markdown",
   "metadata": {},
   "source": [
    "### Float – floating point - real\n",
    "The float class is the sole floating-point type in Python, using a fixed-precision representation."
   ]
  },
  {
   "cell_type": "code",
   "execution_count": 18,
   "metadata": {},
   "outputs": [
    {
     "name": "stdout",
     "output_type": "stream",
     "text": [
      "<class 'float'>\n"
     ]
    }
   ],
   "source": [
    "f = 5.4\n",
    "print (type(f))"
   ]
  },
  {
   "cell_type": "markdown",
   "metadata": {},
   "source": [
    "One other form of literal for floating-point values uses scientific notation ($6.022e23$ represents $6.022×10^{23}$)."
   ]
  },
  {
   "cell_type": "code",
   "execution_count": 19,
   "metadata": {},
   "outputs": [
    {
     "name": "stdout",
     "output_type": "stream",
     "text": [
      "6.022e+23\n"
     ]
    }
   ],
   "source": [
    "f = 6.022e23\n",
    "print (f)"
   ]
  },
  {
   "cell_type": "markdown",
   "metadata": {},
   "source": [
    "### Type conversion"
   ]
  },
  {
   "cell_type": "markdown",
   "metadata": {},
   "source": [
    "Float type can be converted into int type by producing the truncated value of float. Integers also can be converted to floats. Besides, integers and floats can be converted to string format and vice versa."
   ]
  },
  {
   "cell_type": "code",
   "execution_count": 20,
   "metadata": {},
   "outputs": [
    {
     "name": "stdout",
     "output_type": "stream",
     "text": [
      "5\n",
      "5.0\n",
      "5.4\n",
      "5\n",
      "<class 'str'>\n",
      "<class 'int'> 2\n"
     ]
    }
   ],
   "source": [
    "f = 5.4\n",
    "i = int(f)\n",
    "print (i)\n",
    "\n",
    "c=5\n",
    "d=float(c)\n",
    "print(d)\n",
    "\n",
    "print(str(f))\n",
    "print(str(c))\n",
    "\n",
    "a=\"2\"\n",
    "print(type(a))\n",
    "b=int(a)\n",
    "print(type(b),b)"
   ]
  },
  {
   "cell_type": "markdown",
   "metadata": {},
   "source": [
    "### Built-in funtcions for basic math operations\n",
    "Below are some useful built-in functions for math.  \n",
    "<img src=\"basic math.png\" style=\"width: 500px;\">"
   ]
  },
  {
   "cell_type": "code",
   "execution_count": 21,
   "metadata": {},
   "outputs": [
    {
     "name": "stdout",
     "output_type": "stream",
     "text": [
      "abs 5\n",
      "max 9\n",
      "min -5\n",
      "pow 8\n",
      "round 6.778\n"
     ]
    }
   ],
   "source": [
    "print ( 'abs', abs(-5))\n",
    "print ( 'max', max(3, -5, 9))\n",
    "print ( 'min', min(4, -4, -5, 0))\n",
    "print ( 'pow', pow(2, 3))\n",
    "print ( 'round', round(6.7777777, 3))"
   ]
  },
  {
   "cell_type": "markdown",
   "metadata": {},
   "source": [
    "## Expressions, Operators, and Precedence  \n",
    "Existing values can be combined into larger syntactic expressions using a variety of special symbols and keywords known as operators. The semantics of an operator depends upon the type of its operands. For example, when a and b are numbers, the syntax a + b indicates addition, while if a and b are strings, the operator indicates concatenation."
   ]
  },
  {
   "cell_type": "code",
   "execution_count": 22,
   "metadata": {},
   "outputs": [
    {
     "name": "stdout",
     "output_type": "stream",
     "text": [
      "9\n",
      "appleorange\n"
     ]
    }
   ],
   "source": [
    "a = 4\n",
    "b = 5\n",
    "print (a + b)\n",
    "a = 'apple'\n",
    "b = 'orange'\n",
    "print (a + b)"
   ]
  },
  {
   "cell_type": "markdown",
   "metadata": {},
   "source": [
    "### Logical Operators\n",
    "Python supports the following keyword operators for Boolean values:  \n",
    "**not** - unary negation  \n",
    "**and** - conditional and  \n",
    "**or** - conditional or  "
   ]
  },
  {
   "cell_type": "code",
   "execution_count": 23,
   "metadata": {},
   "outputs": [],
   "source": [
    "false_list = [False, None, 0, 0.0, '', [], ()]\n",
    "true_list = [True, 1, 2.3, 'a', (3, 4), [5, 6]]"
   ]
  },
  {
   "cell_type": "markdown",
   "metadata": {},
   "source": [
    "The \"and\" and \"or\" operators short-circuit, in that they do not evaluate the second operand if the result can be determined based on the value of the first operand. This feature is useful when constructing Boolean expressions in which we first test that a certain condition holds (such as a reference not being None), and then test a condition that could have otherwise generated an error condition had the prior test not succeeded."
   ]
  },
  {
   "cell_type": "code",
   "execution_count": 24,
   "metadata": {},
   "outputs": [
    {
     "ename": "NameError",
     "evalue": "name 'not_exist' is not defined",
     "output_type": "error",
     "traceback": [
      "\u001b[1;31m---------------------------------------------------------------------------\u001b[0m",
      "\u001b[1;31mNameError\u001b[0m                                 Traceback (most recent call last)",
      "\u001b[1;32m<ipython-input-24-d47a0d23571a>\u001b[0m in \u001b[0;36m<module>\u001b[1;34m\u001b[0m\n\u001b[0;32m      1\u001b[0m \u001b[1;31m# This identifier does not exist\u001b[0m\u001b[1;33m\u001b[0m\u001b[1;33m\u001b[0m\u001b[1;33m\u001b[0m\u001b[0m\n\u001b[1;32m----> 2\u001b[1;33m \u001b[0mnot_exist\u001b[0m\u001b[1;33m\u001b[0m\u001b[1;33m\u001b[0m\u001b[0m\n\u001b[0m",
      "\u001b[1;31mNameError\u001b[0m: name 'not_exist' is not defined"
     ]
    }
   ],
   "source": [
    "# This identifier does not exist\n",
    "not_exist"
   ]
  },
  {
   "cell_type": "code",
   "execution_count": 25,
   "metadata": {},
   "outputs": [
    {
     "name": "stdout",
     "output_type": "stream",
     "text": [
      "False\n",
      "True\n"
     ]
    }
   ],
   "source": [
    "# We do not get error bacause of not_exist as \"n and\" part is enough for evaluating the expression\n",
    "n = None\n",
    "print (bool(n and not_exist))\n",
    "print (bool(not n or not_exist))"
   ]
  },
  {
   "cell_type": "markdown",
   "metadata": {},
   "source": [
    "### Identity Operators\n",
    "**id()** - Every object in python is stored somewhere in memory. We can use id() to get that memory address.  \n",
    "**is** - return True  if id(x) equals id(y) and False otherwise.  \n",
    "**is not** - return True if id(x) does not equal id(y) and False otherwise"
   ]
  },
  {
   "cell_type": "code",
   "execution_count": 26,
   "metadata": {},
   "outputs": [
    {
     "name": "stdout",
     "output_type": "stream",
     "text": [
      "False\n",
      "True\n"
     ]
    }
   ],
   "source": [
    "x = [1, 2]\n",
    "y = [1, 2]\n",
    "print (x is y)\n",
    "print (x is not y)"
   ]
  },
  {
   "cell_type": "markdown",
   "metadata": {},
   "source": [
    "### Equality Operators\n",
    "Python supports the following operators to test equality:  \n",
    "**==** - equivalent. If x is y is True, then x == y is also True. But if x is not y is False yet x == y can be True.  \n",
    "**!=** - not equivalent  \n",
    "The precise notion of equivalence depends on the data type. For example, two strings are considered equivalent if they match character for character. In most programming situations, the equivalence tests == and != are the appropriate operators; use of is and is not should be reserved for situations in which it is necessary to detect true aliasing."
   ]
  },
  {
   "cell_type": "code",
   "execution_count": 26,
   "metadata": {},
   "outputs": [
    {
     "name": "stdout",
     "output_type": "stream",
     "text": [
      "True\n",
      "False\n",
      "True\n",
      "False\n"
     ]
    }
   ],
   "source": [
    "print (1 == 1)\n",
    "print ('ab' == 'Ab')\n",
    "a = (2, 3, 4)\n",
    "b = (2, 3, 4)\n",
    "print (a == b)\n",
    "print (a != b)"
   ]
  },
  {
   "cell_type": "code",
   "execution_count": 27,
   "metadata": {},
   "outputs": [
    {
     "data": {
      "text/plain": [
       "True"
      ]
     },
     "execution_count": 27,
     "metadata": {},
     "output_type": "execute_result"
    }
   ],
   "source": [
    "a = [2, 3, 4]\n",
    "b = [2, 3, 4]\n",
    "a==b"
   ]
  },
  {
   "cell_type": "markdown",
   "metadata": {},
   "source": [
    "### Comparison Operators\n",
    "Data types may define a natural order via the following operators:\n",
    "<br>\n",
    "< - less than, <= - less than or equal to , > - greater than, >= - greater than or equal to  \n",
    "These operators have expected behavior for numeric types. For strings they are defined lexicographically and case-sensitively. An exception is raised if operands have incomparable types, as with 5 < hello."
   ]
  },
  {
   "cell_type": "code",
   "execution_count": 28,
   "metadata": {},
   "outputs": [
    {
     "name": "stdout",
     "output_type": "stream",
     "text": [
      "False\n",
      "True\n",
      "True\n",
      "True\n",
      "97 65\n",
      "False\n"
     ]
    }
   ],
   "source": [
    "print (4 > 5)\n",
    "print (5 <= 5)\n",
    "print ('abc' < 'abd')\n",
    "print ('a' > 'A') \n",
    "print (ord('a'), ord('A'))\n",
    "print ('a10' > 'a2')"
   ]
  },
  {
   "cell_type": "code",
   "execution_count": 29,
   "metadata": {},
   "outputs": [
    {
     "data": {
      "text/plain": [
       "'a'"
      ]
     },
     "execution_count": 29,
     "metadata": {},
     "output_type": "execute_result"
    }
   ],
   "source": [
    "chr(97)"
   ]
  },
  {
   "cell_type": "markdown",
   "metadata": {},
   "source": [
    "### Arithmetic Operators\n",
    "Python supports the following arithmetic operators:\n",
    "\n",
    "| Operator | Meaning | Example | Algrebraic|\n",
    "| ---|------|------|------|\n",
    "| + | Addition | x + y | x+y|\n",
    "| - | Subraction | x - y | x - y|\n",
    "| * | Multiplication | x*y | xy |\n",
    "| / | True Division | x/y | $$\\frac{x}{y}$$ |\n",
    "| // | Integer Division | x//y | $$|\\frac{x}{y}|$$\n",
    "| ** | Exponentiation | x**y | $$x^y$$ |\n",
    "| % | Modulo | x%y | a mod b |\n",
    "\n",
    "For addition, subtraction, and multiplication if both operands have type int, then the result is an int; if one or both operands have type float, the result will be a float.  \n",
    "**True division** returns the floating-point result of the computation.  \n",
    "**Integer division** returns integer part of the computation if both values are integer and acts as true division if one or more operands have type float.  \n",
    "The **modulօ operator** returns remainder of the integer division."
   ]
  },
  {
   "cell_type": "code",
   "execution_count": 30,
   "metadata": {},
   "outputs": [
    {
     "name": "stdout",
     "output_type": "stream",
     "text": [
      "4 * 5.0 =  20.0\n",
      "4 * 5 =  20\n",
      "7 / 2 =  3.5\n",
      "7 / 2.0 =  3.5\n",
      "7 // 2 =  3\n",
      "7 // 2.0 =  3.0\n",
      "7 % 4 =  3\n"
     ]
    }
   ],
   "source": [
    "print ('4 * 5.0 = ', 4 * 5.0)\n",
    "print ('4 * 5 = ', 4 * 5)\n",
    "print ('7 / 2 = ', 7 / 2)\n",
    "print ('7 / 2.0 = ', 7 / 2.0)\n",
    "print ('7 // 2 = ', 7 // 2)\n",
    "print ('7 // 2.0 = ', 7 // 2.0)\n",
    "print ('7 % 4 = ', 7 % 4)\n"
   ]
  },
  {
   "cell_type": "markdown",
   "metadata": {},
   "source": [
    "### Extended Assignment Operators\n",
    "Python supports an extended assignment operator for most binary operators."
   ]
  },
  {
   "cell_type": "code",
   "execution_count": 21,
   "metadata": {},
   "outputs": [
    {
     "name": "stdout",
     "output_type": "stream",
     "text": [
      "9\n"
     ]
    }
   ],
   "source": [
    "a = 4\n",
    "a += 5 # a=a+5\n",
    "print (a)"
   ]
  },
  {
   "cell_type": "code",
   "execution_count": 8,
   "metadata": {},
   "outputs": [
    {
     "name": "stdout",
     "output_type": "stream",
     "text": [
      "15\n"
     ]
    }
   ],
   "source": [
    "a = 5\n",
    "a *=3 #a=a*3\n",
    "print (a)"
   ]
  },
  {
   "cell_type": "code",
   "execution_count": 14,
   "metadata": {},
   "outputs": [
    {
     "data": {
      "text/plain": [
       "3.5"
      ]
     },
     "execution_count": 14,
     "metadata": {},
     "output_type": "execute_result"
    }
   ],
   "source": [
    "b = 7\n",
    "b /=2\n",
    "b"
   ]
  },
  {
   "cell_type": "code",
   "execution_count": 15,
   "metadata": {},
   "outputs": [
    {
     "data": {
      "text/plain": [
       "49"
      ]
     },
     "execution_count": 15,
     "metadata": {},
     "output_type": "execute_result"
    }
   ],
   "source": [
    "b = 7\n",
    "b **=2\n",
    "b"
   ]
  },
  {
   "cell_type": "code",
   "execution_count": 16,
   "metadata": {},
   "outputs": [
    {
     "data": {
      "text/plain": [
       "1"
      ]
     },
     "execution_count": 16,
     "metadata": {},
     "output_type": "execute_result"
    }
   ],
   "source": [
    "b = 7\n",
    "b %=2\n",
    "b"
   ]
  },
  {
   "cell_type": "markdown",
   "metadata": {},
   "source": [
    "## Compound Expressions and Operator Precedence\n",
    "Programming languages must have clear rules for the order in which compound expressions are evaluated. Operators in a category with higher precedence will be evaluated before those with lower precedence, unless the expression is otherwise parenthesized.  Operators within a category are typically evaluated from left to right. Exceptions to this rule include that unary operators\n",
    "and exponentiation are evaluated from right to left.\n",
    "\n",
    "| Operator | Name | Rank |\n",
    "| ---|------|------|\n",
    "| (), [], (,) | Parentheses,Lists,Tuples | 1 |\n",
    "| ** | Exponentiation| 2 |\n",
    "| ~ | Bitwise NOT | 3 |\n",
    "| +,- | Unary Plus, Unary Minus | 3 |\n",
    "| *,/,//,% | Multiple, Divide, Modulo | 4 |\n",
    "| +,- | Addition and Subtraction | 5 |\n",
    "| & | Bitwise AND | 6 |\n",
    "| ^ | Bitwise XOR | 7|\n",
    "|  | BItwise OR | 8 |\n",
    "| <,<=,>,<,>= | Comparison operators | 9 |\n",
    "| == , != | Equility operators | 9 |\n",
    "| in, not in | Identitiy Operators | 9 |\n",
    "| is, is not | Membership Operators | 10 |\n",
    "| not | Boolean NOT | 10 |\n",
    "| and | Boolean AND | 11 | \n",
    "| or | Boolean OR | 12 | \n",
    "| =,+=,-=,/=,*=,**= | Assignment Operators | 13 |\n"
   ]
  },
  {
   "cell_type": "code",
   "execution_count": 33,
   "metadata": {},
   "outputs": [
    {
     "name": "stdout",
     "output_type": "stream",
     "text": [
      "18\n",
      "30\n",
      "True\n",
      "False\n"
     ]
    }
   ],
   "source": [
    "print (3 * 4 + 6)\n",
    "print (3 * (4 + 6))\n",
    "x = True\n",
    "print (not x or True)\n",
    "print (not (x or True)) "
   ]
  },
  {
   "cell_type": "markdown",
   "metadata": {},
   "source": [
    "Python allows a chained assignment to assign multiple identifiers to the rightmost value. Python also allows the chaining of comparison operators."
   ]
  },
  {
   "cell_type": "code",
   "execution_count": 20,
   "metadata": {},
   "outputs": [
    {
     "name": "stdout",
     "output_type": "stream",
     "text": [
      "1 1\n",
      "True\n",
      "True\n"
     ]
    }
   ],
   "source": [
    "x = y = 1\n",
    "print (x, y)\n",
    "print (1 <= x + y <= 10 ) # computes x + y once\n",
    "print ((1 <= x + y) and (x+y <= 10)) # computes x + y twice"
   ]
  },
  {
   "cell_type": "markdown",
   "metadata": {},
   "source": [
    "\"and\" has higher precedence than \"or\""
   ]
  },
  {
   "cell_type": "code",
   "execution_count": 57,
   "metadata": {},
   "outputs": [
    {
     "data": {
      "text/plain": [
       "True"
      ]
     },
     "execution_count": 57,
     "metadata": {},
     "output_type": "execute_result"
    }
   ],
   "source": [
    "\n",
    "True or False and False"
   ]
  },
  {
   "cell_type": "markdown",
   "metadata": {},
   "source": [
    "# END"
   ]
  },
  {
   "cell_type": "markdown",
   "metadata": {},
   "source": [
    "# Additional"
   ]
  },
  {
   "cell_type": "markdown",
   "metadata": {
    "collapsed": true
   },
   "source": [
    "### Math Module\n",
    "This module is always available. It provides access to the mathematical functions defined by the C standard. Below are some useful functions from the module.  \n",
    "<img src=\"math module.png\" style=\"width: 500px;\">\n"
   ]
  },
  {
   "cell_type": "code",
   "execution_count": 42,
   "metadata": {},
   "outputs": [
    {
     "name": "stdout",
     "output_type": "stream",
     "text": [
      "ceil 5\n",
      "floor 9\n",
      "log 7.0\n",
      "sqrt 4.0\n"
     ]
    }
   ],
   "source": [
    "import math\n",
    "print ( 'ceil', math.ceil(4.3))\n",
    "print ( 'floor', math.floor(9.8))\n",
    "print ( 'log', math.log(pow(math.e, 7)))\n",
    "print ( 'sqrt', math.sqrt(16))"
   ]
  },
  {
   "cell_type": "markdown",
   "metadata": {},
   "source": [
    "### Random Number Functions (random module)\n",
    "This module implements pseudo-random number generators for various distributions.  \n",
    "Random numbers are used for games, simulations, testing, security, and privacy applications. Python includes following functions that are commonly used.  \n",
    "<img src=\"random.png\" style=\"width: 500px;\">"
   ]
  },
  {
   "cell_type": "code",
   "execution_count": 62,
   "metadata": {},
   "outputs": [
    {
     "name": "stdout",
     "output_type": "stream",
     "text": [
      "seed None\n",
      "choice b\n",
      "randrange 9\n",
      "random 0.5442292252959519\n",
      "shuffle [2, 1, 5, 4, 3]\n",
      "uniform 16.055995301393267\n"
     ]
    }
   ],
   "source": [
    "import random\n",
    "print ('seed', random.seed(3))\n",
    "print ('choice', random.choice('abcdefg'))\n",
    "print ('randrange', random.randrange(1, 12, 4))\n",
    "print ('random', random.random())\n",
    "a = [1, 2, 3, 4, 5]\n",
    "random.shuffle(a)\n",
    "print ('shuffle', a)\n",
    "print ('uniform', random.uniform(10, 20))"
   ]
  },
  {
   "cell_type": "code",
   "execution_count": null,
   "metadata": {},
   "outputs": [],
   "source": []
  }
 ],
 "metadata": {
  "kernelspec": {
   "display_name": "Python 3",
   "language": "python",
   "name": "python3"
  },
  "language_info": {
   "codemirror_mode": {
    "name": "ipython",
    "version": 3
   },
   "file_extension": ".py",
   "mimetype": "text/x-python",
   "name": "python",
   "nbconvert_exporter": "python",
   "pygments_lexer": "ipython3",
   "version": "3.7.3"
  }
 },
 "nbformat": 4,
 "nbformat_minor": 2
}
