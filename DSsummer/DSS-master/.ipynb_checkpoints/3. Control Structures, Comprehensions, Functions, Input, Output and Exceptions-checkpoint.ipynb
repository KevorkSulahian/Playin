{
 "cells": [
  {
   "cell_type": "markdown",
   "metadata": {},
   "source": [
    "# Control Structures\n",
    "In this section, we review Python’s most fundamental control structures: conditional statements and loops. The syntax used in Python for defining blocks of code is common for all control structures. The colon character(:) is used to delimit the beginning of a block of code that acts as a body for a control structure. If the body can be stated as a single executable statement, it can technically placed on the same line, to the right of the colon. However, a body is more typically typeset as an indented block starting on the line following the colon. Python relies on the indentation level to designate the extent of that block of code, or any nested blocks of code within."
   ]
  },
  {
   "cell_type": "markdown",
   "metadata": {},
   "source": [
    "## Conditional Statements\n",
    "Conditional constructs (also known as if statements) provide a way to execute a chosen block of code based on the run-time evaluation of one or more Boolean expressions. In Python, the most general form of a conditional is written as follows:\n",
    "<img src=\"conditionals.png\" style=\"width: 200px;\">\n",
    "Each condition is a Boolean expression, and each body contains one or more commands that are to be executed conditionally. If the first condition succeeds, the first body will be executed; no other conditions or bodies are evaluated in that case. If the first condition fails, then the process continues in similar manner with the evaluation of the second condition. The execution of this overall construct will cause precisely one of the bodies to be executed. There may be any number of elif clauses (including zero), and the final else clause is optional. As mentioned already nonboolean types may be evaluated as Booleans with intuitive meanings."
   ]
  },
  {
   "cell_type": "markdown",
   "metadata": {},
   "source": [
    "### If statement"
   ]
  },
  {
   "cell_type": "code",
   "execution_count": 1,
   "metadata": {},
   "outputs": [
    {
     "name": "stdout",
     "output_type": "stream",
     "text": [
      "1 is positive number\n"
     ]
    }
   ],
   "source": [
    "a=1\n",
    "if a > 0:    # true, so the line below will be executed\n",
    "    print( str(a)+\" is positive number\")"
   ]
  },
  {
   "cell_type": "code",
   "execution_count": 2,
   "metadata": {},
   "outputs": [],
   "source": [
    "if 8 == 9:   # not true, nothing will happen\n",
    "    print( \"Eight is equal to nine!\")"
   ]
  },
  {
   "cell_type": "code",
   "execution_count": 3,
   "metadata": {},
   "outputs": [
    {
     "name": "stdout",
     "output_type": "stream",
     "text": [
      "Contditional was true\n"
     ]
    }
   ],
   "source": [
    "# General formula: If True, do something\n",
    "if True:\n",
    "    print(\"Contditional was true\")"
   ]
  },
  {
   "cell_type": "code",
   "execution_count": 4,
   "metadata": {},
   "outputs": [],
   "source": [
    "# General formula: If False, do nothing, because \"else\" is not specified\n",
    "if False:\n",
    "    print(\"Contditional was false\")"
   ]
  },
  {
   "cell_type": "code",
   "execution_count": 5,
   "metadata": {},
   "outputs": [
    {
     "ename": "IndentationError",
     "evalue": "expected an indented block (<ipython-input-5-892df1e42eac>, line 2)",
     "output_type": "error",
     "traceback": [
      "\u001b[1;36m  File \u001b[1;32m\"<ipython-input-5-892df1e42eac>\"\u001b[1;36m, line \u001b[1;32m2\u001b[0m\n\u001b[1;33m    print( \"Eight is less than nine!\")\u001b[0m\n\u001b[1;37m        ^\u001b[0m\n\u001b[1;31mIndentationError\u001b[0m\u001b[1;31m:\u001b[0m expected an indented block\n"
     ]
    }
   ],
   "source": [
    "if 8 < 9:\n",
    "print( \"Eight is less than nine!\")\n",
    "\n",
    "# Python uses indentation (2 or 4 white spaces at the beginning of a line) to delimit blocks of code.\n",
    "# If this is not done, an error will happen."
   ]
  },
  {
   "cell_type": "code",
   "execution_count": 7,
   "metadata": {},
   "outputs": [
    {
     "name": "stdout",
     "output_type": "stream",
     "text": [
      "Empty list\n",
      "Program ended\n"
     ]
    }
   ],
   "source": [
    "newlist=[]\n",
    "if bool(newlist) == 0:\n",
    "    print(\"Empty list\")\n",
    "\n",
    "print(\"Program ended\") # this line is not indented and is on the same level as conditional statement\n",
    "                       # so regardless of conditional statement being true or false this line will be executed"
   ]
  },
  {
   "cell_type": "markdown",
   "metadata": {},
   "source": [
    "### If else statement"
   ]
  },
  {
   "cell_type": "markdown",
   "metadata": {},
   "source": [
    "It has the following structure:\n",
    "<br>\n",
    "if condition:\n",
    "<br>\n",
    "&nbsp;&nbsp;&nbsp;&nbsp;do something\n",
    "<br>\n",
    "else:\n",
    "<br>\n",
    "&nbsp;&nbsp;&nbsp;&nbsp;do something\n",
    "<br>\n",
    "\n",
    "An else statement follows an if statement, and contains code that is run when the if statement evaluates to False. <br>"
   ]
  },
  {
   "cell_type": "code",
   "execution_count": 9,
   "metadata": {},
   "outputs": [
    {
     "name": "stdout",
     "output_type": "stream",
     "text": [
      "Positive or Zero\n"
     ]
    }
   ],
   "source": [
    "# Below program checks if the number provided by user is negative, zero or positive\n",
    "# and displays corresponding message\n",
    "num = 2\n",
    "\n",
    "if num >= 0:\n",
    "    print(\"Positive or Zero\")\n",
    "else:\n",
    "    print(\"Negative number\")"
   ]
  },
  {
   "cell_type": "markdown",
   "metadata": {},
   "source": [
    "In the above example, when num is positive or zero, the test expression is True and the body under it is executed and the body under else is skipped.<br>\n",
    "If num is negative, the test expression is False and the body under else is executed and the body under if is skipped.<br>"
   ]
  },
  {
   "cell_type": "code",
   "execution_count": 10,
   "metadata": {},
   "outputs": [
    {
     "name": "stdout",
     "output_type": "stream",
     "text": [
      "No\n"
     ]
    }
   ],
   "source": [
    "x = 4\n",
    "if x == 5:  # False\n",
    "    print(\"Yes\")\n",
    "else: # if is False therefore else part will be executed\n",
    "    print(\"No\")"
   ]
  },
  {
   "cell_type": "markdown",
   "metadata": {},
   "source": [
    "### if elif else statement"
   ]
  },
  {
   "cell_type": "markdown",
   "metadata": {},
   "source": [
    "The elif is short for else if. It allows us to check for multiple conditions. If the condition for if is False, it checks the condition of the next elif block and so on. If all the conditions are False, body of else is executed.\n",
    "Only one block among the several if...elif...else blocks is executed. It is the block above which the condition evaluated to True. The if elif else statement can have only one else block, but it can have multiple elif blocks."
   ]
  },
  {
   "cell_type": "code",
   "execution_count": 11,
   "metadata": {},
   "outputs": [
    {
     "name": "stdout",
     "output_type": "stream",
     "text": [
      "Zero\n"
     ]
    }
   ],
   "source": [
    "# In this program, we check if the number is positive or\n",
    "# negative or zero and display corresponding message\n",
    "\n",
    "num = 0\n",
    "\n",
    "if num > 0:\n",
    "    print(\"Positive number\")\n",
    "elif num == 0:\n",
    "    print(\"Zero\")\n",
    "else:\n",
    "    print(\"Negative number\")"
   ]
  },
  {
   "cell_type": "markdown",
   "metadata": {},
   "source": [
    "When variable num is positive, positive number is printed.<br>\n",
    "If num is equal to 0, zero is printed.<br>\n",
    "If num is negative, negative number is printed<br>"
   ]
  },
  {
   "cell_type": "code",
   "execution_count": 7,
   "metadata": {},
   "outputs": [
    {
     "name": "stdout",
     "output_type": "stream",
     "text": [
      "Number is 7\n"
     ]
    }
   ],
   "source": [
    "# Another example\n",
    "num = 7\n",
    "if num == 5:# false, so it will check the next statement\n",
    "    print(\"Number is 5\")\n",
    "elif num == 11: #false, so it will check the next statement\n",
    "    print(\"Number is 11\")\n",
    "elif num == 7: #true, so only the line below be executed\n",
    "    print(\"Number is 7\")\n",
    "else:\n",
    "    print(\"Number isn't 5, 11 or 7\")"
   ]
  },
  {
   "cell_type": "markdown",
   "metadata": {},
   "source": [
    "### Nested if statements"
   ]
  },
  {
   "cell_type": "markdown",
   "metadata": {},
   "source": [
    "It is possible to have a if...elif...else statement inside another if...elif...else statement. This is called nesting in computer programming. Any number of these statements can be nested inside one another. This means that the inner if statement is the part of the outer one. Indentation is the only way to figure out the level of nesting.This can get confusing, so must be avoided if possible."
   ]
  },
  {
   "cell_type": "code",
   "execution_count": 9,
   "metadata": {},
   "outputs": [
    {
     "name": "stdout",
     "output_type": "stream",
     "text": [
      "Bigger than 5\n",
      "Between 5 and 47\n"
     ]
    }
   ],
   "source": [
    "num = 12\n",
    "if num > 5:  # true,so the nested lines will be executed\n",
    "    print(\"Bigger than 5\")\n",
    "    if num <=47:     # at this time it checks this statement because it is nested in initial statement.\n",
    "        print(\"Between 5 and 47\") # this will be printed because the line above is true as well"
   ]
  },
  {
   "cell_type": "markdown",
   "metadata": {},
   "source": [
    "### Using or, and, not in statement conditions"
   ]
  },
  {
   "cell_type": "code",
   "execution_count": 16,
   "metadata": {},
   "outputs": [
    {
     "name": "stdout",
     "output_type": "stream",
     "text": [
      "Welcome to admin page\n"
     ]
    }
   ],
   "source": [
    "# Example of \"and\"\n",
    "user=\"Admin\"\n",
    "logged_in=True\n",
    "if user==\"Admin\" and logged_in:\n",
    "    print(\"Welcome to admin page\") # this line will be run only if both statements are true(when we use and operator)\n",
    "else:\n",
    "    print(\"Bad Creds\")"
   ]
  },
  {
   "cell_type": "code",
   "execution_count": 17,
   "metadata": {},
   "outputs": [
    {
     "name": "stdout",
     "output_type": "stream",
     "text": [
      "Welcome to admin page\n"
     ]
    }
   ],
   "source": [
    "# Using \"or\"\n",
    "user=\"Admin\"\n",
    "logged_in=False\n",
    "if user==\"Admin\" or logged_in: # this line will be run if at least one of the statements is True\n",
    "    print(\"Welcome to admin page\")\n",
    "else:\n",
    "    print(\"Bad Creds\")"
   ]
  },
  {
   "cell_type": "code",
   "execution_count": 18,
   "metadata": {},
   "outputs": [
    {
     "name": "stdout",
     "output_type": "stream",
     "text": [
      "Please log in\n"
     ]
    }
   ],
   "source": [
    "# Using \"not\"\n",
    "user=\"Admin\"\n",
    "logged_in=False\n",
    "if  not logged_in: # using not in front of False expression makes the statement True (similar to !False)\n",
    "    print(\"Please log in\")\n",
    "else:\n",
    "    print(\"Welcome\")"
   ]
  },
  {
   "cell_type": "markdown",
   "metadata": {},
   "source": [
    "### Inline if else statements"
   ]
  },
  {
   "cell_type": "code",
   "execution_count": 45,
   "metadata": {},
   "outputs": [],
   "source": [
    "a = 5"
   ]
  },
  {
   "cell_type": "code",
   "execution_count": 46,
   "metadata": {},
   "outputs": [
    {
     "data": {
      "text/plain": [
       "1005"
      ]
     },
     "execution_count": 46,
     "metadata": {},
     "output_type": "execute_result"
    }
   ],
   "source": [
    "0 if a >10 else a+1000"
   ]
  },
  {
   "cell_type": "code",
   "execution_count": 52,
   "metadata": {},
   "outputs": [],
   "source": [
    "b = 0"
   ]
  },
  {
   "cell_type": "code",
   "execution_count": 54,
   "metadata": {},
   "outputs": [
    {
     "data": {
      "text/plain": [
       "'Zero'"
      ]
     },
     "execution_count": 54,
     "metadata": {},
     "output_type": "execute_result"
    }
   ],
   "source": [
    "res= \"Negative\" if b<0 else \"Zero\" if b==0 else \"Positive\"\n",
    "res"
   ]
  },
  {
   "cell_type": "markdown",
   "metadata": {},
   "source": [
    "# Loops\n",
    "\n",
    "Loop is a structure, series, or process the end of which is connected to the beginning.\n",
    "\n",
    "### For loop\n",
    "\n",
    "Python’s for statement iterates over the items of any sequence (list, string or other iterable objects) in the order that they appear in the sequence."
   ]
  },
  {
   "cell_type": "code",
   "execution_count": 5,
   "metadata": {},
   "outputs": [],
   "source": [
    "nameseq = [\"Narek\",\"Ashot\",\"Hrant\",\"Gevorg\"] # this list is a sequence of names in this case"
   ]
  },
  {
   "cell_type": "markdown",
   "metadata": {},
   "source": [
    "To print all the names in the above list, we can use for loop."
   ]
  },
  {
   "cell_type": "code",
   "execution_count": 8,
   "metadata": {},
   "outputs": [
    {
     "name": "stdout",
     "output_type": "stream",
     "text": [
      "Narek\n",
      "Ashot\n",
      "Hrant\n",
      "Gevorg\n"
     ]
    }
   ],
   "source": [
    "for val in nameseq: \n",
    "    print(val)"
   ]
  },
  {
   "cell_type": "markdown",
   "metadata": {},
   "source": [
    "Note we could name items in the list different from val (for example call it 'i','d' or 'name') and the code would run the same way.<br> Here val is the variable that takes the value of the item inside the sequence on each iteration.<br>\n",
    "Loop continues until it reaches the last item in the sequence. The body of for loop is separated from the rest of the code using indentation."
   ]
  },
  {
   "cell_type": "code",
   "execution_count": 9,
   "metadata": {},
   "outputs": [
    {
     "name": "stdout",
     "output_type": "stream",
     "text": [
      "['NAREK', 'ASHOT', 'HRANT', 'GEVORG']\n"
     ]
    }
   ],
   "source": [
    "names_up = []\n",
    "for i in nameseq:\n",
    "    names_up.append(i.upper()) # making upper case each name\n",
    "print(names_up)"
   ]
  },
  {
   "cell_type": "markdown",
   "metadata": {},
   "source": [
    "We iterated over names and each time made an item (a name) uppercase."
   ]
  },
  {
   "cell_type": "code",
   "execution_count": 6,
   "metadata": {},
   "outputs": [
    {
     "name": "stdout",
     "output_type": "stream",
     "text": [
      "6\n",
      "11\n",
      "14\n",
      "22\n",
      "26\n",
      "28\n",
      "33\n",
      "37\n",
      "48\n",
      "The sum is 48\n"
     ]
    }
   ],
   "source": [
    "# Program to find the sum of all numbers stored in a number list\n",
    "\n",
    "# List of numbers\n",
    "numbers = [6, 5, 3, 8, 4, 2, 5, 4, 11]\n",
    "\n",
    "# Variable to store the sum\n",
    "sum = 0\n",
    "\n",
    "# iterate over the list\n",
    "for val in numbers:\n",
    "    sum = sum+val\n",
    "    print(sum)    # To understand what happens, let's print the sum in the end of every iteration\n",
    "\n",
    "# Output\n",
    "print(\"The sum is\", sum)"
   ]
  },
  {
   "cell_type": "markdown",
   "metadata": {},
   "source": [
    "### The range() function\n",
    "We can generate a sequence of numbers using range() function.<br> range(10) will generate numbers from 0 to 9 (10 numbers).<br>\n",
    "We can also define the start, stop and step size as range(start, stop, step).<br> Step size defaults to 1 if not provided."
   ]
  },
  {
   "cell_type": "code",
   "execution_count": 6,
   "metadata": {},
   "outputs": [
    {
     "name": "stdout",
     "output_type": "stream",
     "text": [
      "range(0, 10)\n"
     ]
    }
   ],
   "source": [
    "print(range(10))"
   ]
  },
  {
   "cell_type": "markdown",
   "metadata": {},
   "source": [
    "Range() function does not store all the values in memory, it would be inefficient.<br> So it remembers the start, stop, step size and generates the next number on the go.<br>\n",
    "\n",
    "To force this function to output all the items, we can use the function list().<br>\n",
    "\n",
    "The following example will clarify it:"
   ]
  },
  {
   "cell_type": "code",
   "execution_count": 8,
   "metadata": {},
   "outputs": [
    {
     "name": "stdout",
     "output_type": "stream",
     "text": [
      "[0, 1, 2, 3, 4, 5, 6, 7, 8, 9]\n",
      "[1, 3, 5, 7, 9]\n"
     ]
    }
   ],
   "source": [
    "print(list(range(10)))\n",
    "print(list(range(1,10,2)))"
   ]
  },
  {
   "cell_type": "markdown",
   "metadata": {},
   "source": [
    "We can use the range() function in for loops to iterate through a sequence of numbers. <br>It can be combined with the len() function to iterate through a sequence using indexing. Here is an example."
   ]
  },
  {
   "cell_type": "code",
   "execution_count": 7,
   "metadata": {},
   "outputs": [
    {
     "name": "stdout",
     "output_type": "stream",
     "text": [
      "Armenian king  Pap\n",
      "Armenian king  Tigran\n",
      "Armenian king  Artashes\n"
     ]
    }
   ],
   "source": [
    "kings = ['Pap', 'Tigran', 'Artashes']\n",
    "\n",
    "# iterate over the list using index\n",
    "for i in range(len(kings)):\n",
    "    print(\"Armenian king \", kings[i])"
   ]
  },
  {
   "cell_type": "markdown",
   "metadata": {},
   "source": [
    "### Loop Control Statements\n",
    "Loop control statements change execution from its normal sequence. When execution leaves a scope, all automatic objects that<br> were created in that scope are destroyed.<br>\n",
    "\n",
    "Python supports the following control statements:"
   ]
  },
  {
   "cell_type": "markdown",
   "metadata": {},
   "source": [
    "#### break statement\n",
    "Terminates the loop statement and transfers execution to the statement immediately following the loop."
   ]
  },
  {
   "cell_type": "code",
   "execution_count": 19,
   "metadata": {},
   "outputs": [
    {
     "name": "stdout",
     "output_type": "stream",
     "text": [
      "0\n",
      "1\n",
      "3\n",
      "5\n",
      "7\n"
     ]
    }
   ],
   "source": [
    "digits = [0,1,3,5,7,13,4,8]\n",
    "\n",
    "for i in digits:\n",
    "    if i>7:\n",
    "        break\n",
    "    print(i)\n",
    "# As you can see, 13,4,8 were not printed as 13>7. When this condition became True for loop broke."
   ]
  },
  {
   "cell_type": "markdown",
   "metadata": {},
   "source": [
    "#### continue statement\n",
    "Causes the loop to skip the remainder of its body that follows continue\n",
    "<br>and immediately passes to the next element of the sequence."
   ]
  },
  {
   "cell_type": "code",
   "execution_count": 20,
   "metadata": {},
   "outputs": [
    {
     "name": "stdout",
     "output_type": "stream",
     "text": [
      "0\n",
      "1\n",
      "3\n",
      "5\n",
      "7\n",
      "4\n"
     ]
    }
   ],
   "source": [
    "digits = [0, 1,3 ,5,7,13,15,4,8]\n",
    "\n",
    "for i in digits:\n",
    "    if i>7:\n",
    "        continue\n",
    "    print(i)"
   ]
  },
  {
   "cell_type": "markdown",
   "metadata": {},
   "source": [
    "#### pass statement\n",
    "The pass statement in Python is used when a statement is required syntactically<br> but you do not want any command or code to execute."
   ]
  },
  {
   "cell_type": "code",
   "execution_count": 25,
   "metadata": {},
   "outputs": [
    {
     "name": "stdout",
     "output_type": "stream",
     "text": [
      "Less than 7\n",
      "0\n",
      "Less than 7\n",
      "1\n",
      "Less than 7\n",
      "3\n",
      "Less than 7\n",
      "5\n",
      "Less than 7\n",
      "7\n",
      "13\n",
      "15\n",
      "Less than 7\n",
      "4\n",
      "8\n"
     ]
    }
   ],
   "source": [
    "digits = [0, 1,3 ,5,7,13,15,4,8]\n",
    "for i in digits:\n",
    "    if i>7:\n",
    "        pass # Even if the condition is True, nothing is done.\n",
    "    else:\n",
    "        print(\"Less than 7\")\n",
    "    print(i)"
   ]
  },
  {
   "cell_type": "markdown",
   "metadata": {},
   "source": [
    "### Loop over 2 lists\n",
    "To loop over two or more sequences at the same time, the entries can be paired with the zip() function."
   ]
  },
  {
   "cell_type": "code",
   "execution_count": 26,
   "metadata": {},
   "outputs": [
    {
     "name": "stdout",
     "output_type": "stream",
     "text": [
      "What is your name?  It is Lancelot.\n",
      "What is your quest?  It is the holy grail.\n",
      "What is your favorite color?  It is blue.\n"
     ]
    },
    {
     "data": {
      "text/plain": [
       "[('name', 'Lancelot'), ('quest', 'the holy grail'), ('favorite color', 'blue')]"
      ]
     },
     "execution_count": 26,
     "metadata": {},
     "output_type": "execute_result"
    }
   ],
   "source": [
    "questions = ['name', 'quest', 'favorite color']\n",
    "answers = ['Lancelot', 'the holy grail', 'blue']\n",
    "\n",
    "for q, a in zip(questions, answers):\n",
    "    print('What is your {0}?  It is {1}.'.format(q, a))\n",
    "    \n",
    "# What does zip() function? \n",
    "# It outputs list of tuples with two elements in each tuple that have the same index in the input lists.\n",
    "list(zip(questions, answers))"
   ]
  },
  {
   "cell_type": "markdown",
   "metadata": {},
   "source": [
    "Another approach is a nested for loop. In this example, the outer loop will iterate through a list of integers called num_list, and the inner loop will iterate through a list of strings called alpha_list."
   ]
  },
  {
   "cell_type": "code",
   "execution_count": 20,
   "metadata": {},
   "outputs": [
    {
     "name": "stdout",
     "output_type": "stream",
     "text": [
      "1 a\n",
      "1 b\n",
      "1 c\n",
      "2 a\n",
      "2 b\n",
      "2 c\n",
      "3 a\n",
      "3 b\n",
      "3 c\n"
     ]
    }
   ],
   "source": [
    "num_list = [1, 2, 3]\n",
    "alpha_list = ['a', 'b', 'c']\n",
    "\n",
    "for number in num_list:\n",
    "    for letter in alpha_list:\n",
    "        print(number,letter)"
   ]
  },
  {
   "cell_type": "markdown",
   "metadata": {},
   "source": [
    "This nested loop printed all possible combinations of the numbers and the letters.<br>\n",
    "The output illustrates that the program completes the first iteration of the outer loop by printing 1, which then triggers completion of the inner loop, printing a, b, c consecutively. Once the inner loop has completed, the program returns to the top of the outer loop, prints 2, then again prints the inner loop in its entirety (a, b, c), etc."
   ]
  },
  {
   "cell_type": "markdown",
   "metadata": {},
   "source": [
    "Nested for loops can be useful for iterating through list items within lists. In a list composed of lists, if we use just one for loop, the program will output each internal list as an item."
   ]
  },
  {
   "cell_type": "code",
   "execution_count": 3,
   "metadata": {},
   "outputs": [
    {
     "name": "stdout",
     "output_type": "stream",
     "text": [
      "['AMERICAN', 'UNIVERSITY', 'Data Scientist']\n",
      "[0, 1, 2]\n",
      "[9.9, 8.8, 7.7]\n"
     ]
    }
   ],
   "source": [
    "list_of_lists = [['AMERICAN', 'UNIVERSITY', 'Data Scientist'],[0, 1, 2],[9.9, 8.8, 7.7]]\n",
    "\n",
    "for lis in list_of_lists:\n",
    "    print(lis)"
   ]
  },
  {
   "cell_type": "markdown",
   "metadata": {},
   "source": [
    "In order to access each individual item of the internal lists, we’ll implement a nested for loop:"
   ]
  },
  {
   "cell_type": "code",
   "execution_count": 4,
   "metadata": {},
   "outputs": [
    {
     "name": "stdout",
     "output_type": "stream",
     "text": [
      "AMERICAN\n",
      "UNIVERSITY\n",
      "Data Scientist\n",
      "0\n",
      "1\n",
      "2\n",
      "9.9\n",
      "8.8\n",
      "7.7\n"
     ]
    }
   ],
   "source": [
    "for lis in list_of_lists: # In first iteration it will go over this list: ['AMERICAN', 'UNIVERSITY', 'ENGINEER']\n",
    "    for item in lis:      # In first iteration it will use this item: 'AMERICAN'\n",
    "        print(item)        # It will print AMERICAN and so on."
   ]
  },
  {
   "cell_type": "markdown",
   "metadata": {},
   "source": [
    "### Looping over dictionary\n",
    "It is possible to iterate over dictionaries too."
   ]
  },
  {
   "cell_type": "code",
   "execution_count": 63,
   "metadata": {},
   "outputs": [
    {
     "name": "stdout",
     "output_type": "stream",
     "text": [
      "r\n",
      "g\n",
      "b\n",
      "b blue\n",
      "b blue\n",
      "b blue\n"
     ]
    }
   ],
   "source": [
    "rgb = {'r': 'red', 'g':'green',\"b\":'blue'}\n",
    "for i in rgb: # iterates over dictionary keys\n",
    "    print(i)\n",
    "    \n",
    "for i, j in rgb.items():  # We iterate over key, value pairs, using items() method of dictionary\n",
    "    print(key, value)\n",
    "  "
   ]
  },
  {
   "cell_type": "markdown",
   "metadata": {},
   "source": [
    "## List  and dictionary comprehensions\n",
    "\n",
    "### List comprehensions"
   ]
  },
  {
   "cell_type": "markdown",
   "metadata": {},
   "source": [
    "List comprehensions provide a concise way to create lists. <br>\n",
    "A lsit comprehension consists of square brackets containing an expression followed by a for clause, then<br>\n",
    "zero or more for or if clauses. The expressions can be anything, meaning you can<br>\n",
    "put in all kinds of objects in lists.<br>\n",
    "\n",
    "If you used to do it like this:"
   ]
  },
  {
   "cell_type": "code",
   "execution_count": 2,
   "metadata": {},
   "outputs": [
    {
     "name": "stdout",
     "output_type": "stream",
     "text": [
      "[13, 9, 22, 4, 17]\n"
     ]
    }
   ],
   "source": [
    "# Adding one to each element of the list\n",
    "nums = [12, 8, 21, 3, 16]\n",
    "new_nums = []\n",
    "for num in nums:\n",
    "    new_nums.append(num + 1)\n",
    "print(new_nums)"
   ]
  },
  {
   "cell_type": "markdown",
   "metadata": {},
   "source": [
    "You can achieve the same result with one line of code using a list comprehension:"
   ]
  },
  {
   "cell_type": "code",
   "execution_count": 3,
   "metadata": {},
   "outputs": [
    {
     "data": {
      "text/plain": [
       "[13, 9, 22, 4, 17]"
      ]
     },
     "execution_count": 3,
     "metadata": {},
     "output_type": "execute_result"
    }
   ],
   "source": [
    "[num + 1 for num in nums]"
   ]
  },
  {
   "cell_type": "code",
   "execution_count": 4,
   "metadata": {},
   "outputs": [
    {
     "name": "stdout",
     "output_type": "stream",
     "text": [
      "[13, 9, 22, 4, 17]\n"
     ]
    }
   ],
   "source": [
    "a=[num + 1 for num in nums] # You can assign it to an identifier and use it.\n",
    "print(a)"
   ]
  },
  {
   "cell_type": "code",
   "execution_count": 18,
   "metadata": {},
   "outputs": [
    {
     "data": {
      "text/plain": [
       "[['ANNA', 'MELIQYAN'], ['ANI', 'AVAGYAN'], ['GEVORG', 'MINASYAN']]"
      ]
     },
     "execution_count": 18,
     "metadata": {},
     "output_type": "execute_result"
    }
   ],
   "source": [
    "# You can applly multiple methods at the same time. In this case we apply strip, upper and split methods\n",
    "ns=[\" Anna Meliqyan \", \"   Ani Avagyan   \", \"  Gevorg  Minasyan   \"]\n",
    "[i.strip().upper().split() for i in ns]"
   ]
  },
  {
   "cell_type": "markdown",
   "metadata": {},
   "source": [
    "#### Conditionals in comprehensions<br>\n",
    "If you used to do it like this:\n"
   ]
  },
  {
   "cell_type": "code",
   "execution_count": 42,
   "metadata": {},
   "outputs": [
    {
     "name": "stdout",
     "output_type": "stream",
     "text": [
      "[4, 16, 36, 64, 100]\n"
     ]
    }
   ],
   "source": [
    "# Given a list of integers output squares of even numbers in that list\n",
    "old_list=[1,2,3,4,5,6,7,8,9,10]\n",
    "new_list = []\n",
    "for i in old_list:\n",
    "        if i%2==0:  #takes only even integers\n",
    "            new_list.append(i**2)\n",
    "print(new_list)"
   ]
  },
  {
   "cell_type": "markdown",
   "metadata": {},
   "source": [
    "You can do it in a shorter way:"
   ]
  },
  {
   "cell_type": "code",
   "execution_count": 44,
   "metadata": {},
   "outputs": [
    {
     "name": "stdout",
     "output_type": "stream",
     "text": [
      "[4, 16, 36, 64, 100]\n"
     ]
    }
   ],
   "source": [
    "# Using list comprehension\n",
    "new_list = [i**2 for i in old_list if i%2==0]\n",
    "print(new_list)"
   ]
  },
  {
   "cell_type": "markdown",
   "metadata": {},
   "source": [
    "The above one is a **filtering comprehension** as the number of elements of the list decreases in the end. The below one is a **mutating comprehension** as it keeps all the elements of the list but mutates some or all of them. "
   ]
  },
  {
   "cell_type": "code",
   "execution_count": 10,
   "metadata": {},
   "outputs": [
    {
     "name": "stdout",
     "output_type": "stream",
     "text": [
      "[0, 0, 8, 0, 64, 0, 216, 0, 512, 0, 1000]\n"
     ]
    }
   ],
   "source": [
    "# Create a list containing the cube of even numbers and 0-s instead of odd numbers in range 0 to 10 inclusive\n",
    "ls=[num ** 3 if num % 2 == 0 else 0 for num in range(11)]\n",
    "print(ls)"
   ]
  },
  {
   "cell_type": "code",
   "execution_count": 12,
   "metadata": {},
   "outputs": [
    {
     "data": {
      "text/plain": [
       "['hello Mane', 'hi Hayk', 'Bye', 'Bye']"
      ]
     },
     "execution_count": 12,
     "metadata": {},
     "output_type": "execute_result"
    }
   ],
   "source": [
    "# Multiple if else statements in a list comprehension\n",
    "name = [\"Mane\", \"Hayk\",\"Aram\", \"Unknown\"]\n",
    "['hello Mane' if i==\"Mane\" else 'hi Hayk' if i==\"Hayk\" else \"Bye\" for i in name]"
   ]
  },
  {
   "cell_type": "markdown",
   "metadata": {},
   "source": [
    "\n",
    "#### Nested List Comprehensions\n",
    "Apart from conditionals, you can also adjust your list comprehensions by nesting them within other list comprehensions. This is handy when you want to work with lists of lists: generating lists of lists, transposing lists of lists or flattening lists of lists to regular lists, for example, becomes extremely easy with nested list comprehensions."
   ]
  },
  {
   "cell_type": "code",
   "execution_count": 55,
   "metadata": {},
   "outputs": [
    {
     "data": {
      "text/plain": [
       "[1, 2, 3, 4, 5, 6, 7, 8]"
      ]
     },
     "execution_count": 55,
     "metadata": {},
     "output_type": "execute_result"
    }
   ],
   "source": [
    "lists = [[1,2,3],[4,5,6],[7,8]]\n",
    "\n",
    "# Flatten list of lists\n",
    "[y for x in lists for y in x]"
   ]
  },
  {
   "cell_type": "markdown",
   "metadata": {},
   "source": [
    "You assign a rather simple list of lists to a variable list. In the next line, you execute a list comprehension that returns a normal list. What actually happens is that you take the list elements (y) of the nested lists (x) in lists and return a list of those list elements y that are in x lists."
   ]
  },
  {
   "cell_type": "markdown",
   "metadata": {},
   "source": [
    "#### Iterating over two or more list simultaneously"
   ]
  },
  {
   "cell_type": "code",
   "execution_count": 15,
   "metadata": {},
   "outputs": [
    {
     "data": {
      "text/plain": [
       "[4, 6]"
      ]
     },
     "execution_count": 15,
     "metadata": {},
     "output_type": "execute_result"
    }
   ],
   "source": [
    "# Adding corresponding elements of two lists\n",
    "[i+j for i,j in zip([1,2],[3,4])]"
   ]
  },
  {
   "cell_type": "markdown",
   "metadata": {},
   "source": [
    "#### Dictionary Comprehensions\n",
    "There are dictionary comprehensions as well. You can create new dictionaries using them."
   ]
  },
  {
   "cell_type": "code",
   "execution_count": 23,
   "metadata": {},
   "outputs": [
    {
     "data": {
      "text/plain": [
       "{'r': 'red', 'g': 'green', 'b': 'blue'}"
      ]
     },
     "execution_count": 23,
     "metadata": {},
     "output_type": "execute_result"
    }
   ],
   "source": [
    "# Example\n",
    "key=[\"r\",\"g\",\"b\"]\n",
    "values=[\"red\",\"green\",\"blue\"]\n",
    "rgb = {i:j for i,j in zip(key, values)}\n",
    "rgb"
   ]
  },
  {
   "cell_type": "code",
   "execution_count": 29,
   "metadata": {},
   "outputs": [
    {
     "data": {
      "text/plain": [
       "{0: 5, 'c': 3}"
      ]
     },
     "execution_count": 29,
     "metadata": {},
     "output_type": "execute_result"
    }
   ],
   "source": [
    "# More examples\n",
    "a = [\"a\", \"b\", \"c\",\"d\", \"e\"]\n",
    "b = [1, 2, 3, 4, 5]"
   ]
  },
  {
   "cell_type": "code",
   "execution_count": 31,
   "metadata": {},
   "outputs": [
    {
     "data": {
      "text/plain": [
       "{'b': 2, 'd': 4}"
      ]
     },
     "execution_count": 31,
     "metadata": {},
     "output_type": "execute_result"
    }
   ],
   "source": [
    "{i : j for i,j in zip(a,b) if j%2==0}"
   ]
  },
  {
   "cell_type": "code",
   "execution_count": 33,
   "metadata": {},
   "outputs": [
    {
     "data": {
      "text/plain": [
       "{'a': 1, 'd': 4}"
      ]
     },
     "execution_count": 33,
     "metadata": {},
     "output_type": "execute_result"
    }
   ],
   "source": [
    "{i : j for i,j in zip(a,b) if i==\"a\" or i==\"d\"}"
   ]
  },
  {
   "cell_type": "code",
   "execution_count": 36,
   "metadata": {},
   "outputs": [
    {
     "data": {
      "text/plain": [
       "{'abbbbb': 1, 'bbbbbb': 2, 'c': 3, 'dbbbbb': 4, 'ebbbbb': 5}"
      ]
     },
     "execution_count": 36,
     "metadata": {},
     "output_type": "execute_result"
    }
   ],
   "source": [
    "{i if i==\"c\" else i+\"bbbbb\" : j for i,j in zip(a,b)}"
   ]
  },
  {
   "cell_type": "code",
   "execution_count": 37,
   "metadata": {},
   "outputs": [
    {
     "data": {
      "text/plain": [
       "{'a': 1, 'b': 2, 'c': 3, 'd': 104, 'e': 105}"
      ]
     },
     "execution_count": 37,
     "metadata": {},
     "output_type": "execute_result"
    }
   ],
   "source": [
    "{i : j+100 if j>3 else j for i,j in zip(a,b)}"
   ]
  },
  {
   "cell_type": "code",
   "execution_count": 40,
   "metadata": {},
   "outputs": [
    {
     "data": {
      "text/plain": [
       "{'a': 1, 'B': 2, 'C': 3, 'D': 104, 'E': 105}"
      ]
     },
     "execution_count": 40,
     "metadata": {},
     "output_type": "execute_result"
    }
   ],
   "source": [
    "{i if i==\"a\" else i.upper() : j+100 if j>3 else j for i,j in zip(a,b)}"
   ]
  },
  {
   "cell_type": "markdown",
   "metadata": {},
   "source": [
    "## While loop"
   ]
  },
  {
   "cell_type": "markdown",
   "metadata": {},
   "source": [
    "The while loop is used to iterate over a block of code as long as the test expression (condition) is true.<br>\n",
    "We generally use this loop when we don't know beforehand, the number of times to iterate."
   ]
  },
  {
   "cell_type": "markdown",
   "metadata": {},
   "source": [
    "We know that if statement is run once if its condition evaluates to True, and never if it evaluates to False. \n",
    "While statement is similar to it, except that it can be run more than once. The statement inside it is repeatedly executed, as long as the condition holds True. Once it evaluates to False, while loop ends and the next section of code is executed. \n",
    "Below is a while loop containing a variable that counts up from 1 to 5, at which point the loop terminates."
   ]
  },
  {
   "cell_type": "code",
   "execution_count": 56,
   "metadata": {},
   "outputs": [
    {
     "name": "stdout",
     "output_type": "stream",
     "text": [
      "1\n",
      "2\n",
      "3\n",
      "4\n",
      "5\n",
      "Finished\n"
     ]
    }
   ],
   "source": [
    "i = 1\n",
    "while i <=5: # it will stop only when i is bigger than 5\n",
    "    print(i)\n",
    "    i = i + 1\n",
    "print(\"Finished\")"
   ]
  },
  {
   "cell_type": "code",
   "execution_count": 27,
   "metadata": {},
   "outputs": [
    {
     "name": "stdout",
     "output_type": "stream",
     "text": [
      "The sum is 55\n"
     ]
    }
   ],
   "source": [
    "# Program to add natural numbers up to n\n",
    "# sum = 1+2+3+...+n\n",
    "\n",
    "n = 10\n",
    "\n",
    "# Initialize sum and counter\n",
    "sum = 0\n",
    "i = 1\n",
    "\n",
    "while i <= n: # so it will stop when i reaches to n\n",
    "    sum = sum + i # add i-th number\n",
    "    i = i+1    # update counter\n",
    "\n",
    "# print the sum\n",
    "print(\"The sum is\", sum)"
   ]
  },
  {
   "cell_type": "markdown",
   "metadata": {},
   "source": [
    "In the above program, the test expression will be True as long as our counter variable i is less than or equal to n.<br>\n",
    "We need to increase the value of counter variable in the body of the loop. This is very important (and mostly forgotten). <br>\n",
    "Failing to do so will result in an infinite loop (never ending loop)."
   ]
  },
  {
   "cell_type": "markdown",
   "metadata": {},
   "source": [
    "#### Infinite loop"
   ]
  },
  {
   "cell_type": "markdown",
   "metadata": {},
   "source": [
    "The infinite loop is a special kind of while loop; it never stops running. Its condition always remains True. \n",
    "An example of an infinite loop:"
   ]
  },
  {
   "cell_type": "code",
   "execution_count": 58,
   "metadata": {},
   "outputs": [],
   "source": [
    "# Do not uncomment the below code and run it. Otherwise you will need to restart your kernel or computer.\n",
    "a=2\n",
    "#while a==2:\n",
    "#    print(\"In the loop\") \n",
    "    \n",
    "#This program would indefinitely print \"In the loop\"."
   ]
  },
  {
   "cell_type": "markdown",
   "metadata": {},
   "source": [
    "#### break\n",
    "To end a while loop prematurely, the break statement can be used. \n",
    "When encountered inside a loop, the break statement causes the loop to finish immediately."
   ]
  },
  {
   "cell_type": "code",
   "execution_count": 28,
   "metadata": {},
   "outputs": [
    {
     "name": "stdout",
     "output_type": "stream",
     "text": [
      "0\n",
      "1\n",
      "2\n",
      "3\n",
      "4\n",
      "Breaking\n"
     ]
    }
   ],
   "source": [
    "i = 0\n",
    "while True:\n",
    "    print(i)\n",
    "    i = i + 1 # every time we add 1 to i\n",
    "    if i >= 5: # but when it reaches to 5 it will break\n",
    "        print(\"Breaking\")\n",
    "        break  # Using the break statement outside of a loop causes an error."
   ]
  },
  {
   "cell_type": "markdown",
   "metadata": {},
   "source": [
    "#### continue\n",
    "\n",
    "Another statement that can be used within loops is continue. \n",
    "Unlike break, continue jumps back to the top of the loop, rather than stopping it."
   ]
  },
  {
   "cell_type": "code",
   "execution_count": 1,
   "metadata": {},
   "outputs": [
    {
     "name": "stdout",
     "output_type": "stream",
     "text": [
      "1\n",
      "Skipping 2\n",
      "3\n",
      "4\n",
      "Breaking\n",
      "Finished\n"
     ]
    }
   ],
   "source": [
    "i = 0\n",
    "while True:\n",
    "    i = i +1\n",
    "    if i == 2:## when wi reach to 2 we will not print it, we will  print(\"Skipping 2\") and  then continue\n",
    "        print(\"Skipping 2\")\n",
    "        continue\n",
    "    if i == 5:\n",
    "        print(\"Breaking\")\n",
    "        break\n",
    "    print(i)\n",
    "\n",
    "print(\"Finished\")"
   ]
  },
  {
   "cell_type": "code",
   "execution_count": null,
   "metadata": {},
   "outputs": [],
   "source": []
  },
  {
   "cell_type": "markdown",
   "metadata": {},
   "source": [
    "# END"
   ]
  },
  {
   "cell_type": "code",
   "execution_count": null,
   "metadata": {},
   "outputs": [],
   "source": []
  }
 ],
 "metadata": {
  "kernelspec": {
   "display_name": "Python 3",
   "language": "python",
   "name": "python3"
  },
  "language_info": {
   "codemirror_mode": {
    "name": "ipython",
    "version": 3
   },
   "file_extension": ".py",
   "mimetype": "text/x-python",
   "name": "python",
   "nbconvert_exporter": "python",
   "pygments_lexer": "ipython3",
   "version": "3.7.3"
  }
 },
 "nbformat": 4,
 "nbformat_minor": 2
}
