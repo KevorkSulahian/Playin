{
 "cells": [
  {
   "cell_type": "markdown",
   "metadata": {},
   "source": [
    "# List\n",
    "The list class is the most general, representing a sequence of arbitrary objects (including the None object). Lists are\n",
    "array-based sequences and are zero-indexed. They are perhaps the most used container type in Python. They have many valuable behaviors, including the ability to dynamically expand and contract their capacities as needed.\n",
    "A list is a referential structure, as it technically stores a sequence of references to its elements.\n",
    "<img src=\"list_repr.png\" style=\"width: 600px;\">"
   ]
  },
  {
   "cell_type": "code",
   "execution_count": 1,
   "metadata": {},
   "outputs": [
    {
     "name": "stdout",
     "output_type": "stream",
     "text": [
      "[2, 3]\n",
      "['a', 'a', 'a', 'a', 'a', 'a', 'a', 'a', 'a', 'a']\n",
      "[1, 2, 3, 4, 5, 1, 2, 3, 4, 5, 1, 2, 3, 4, 5, 1, 2, 3, 4, 5]\n"
     ]
    }
   ],
   "source": [
    "empty_list = [] # Empty list; same as \"empty_list = list()\"\n",
    "str_list = ['red', 'green', 'blue'] # list of strings\n",
    "int_list = [1, 2, 3, 4, 5] # list of integers\n",
    "mixed_list = [1, 'dog', 3.5] # list of different types of elements\n",
    "prime1 = 2\n",
    "prime2 = 3\n",
    "primes_list = [prime1, prime2]\n",
    "a_10 = ['a']*10\n",
    "print (primes_list)\n",
    "print (a_10)\n",
    "print (int_list*4)"
   ]
  },
  {
   "cell_type": "markdown",
   "metadata": {},
   "source": [
    "### List Operations\n",
    "#### Accessing and updating Values in Lists\n",
    "To access values in lists, use the square brackets for slicing along with the index or indices to obtain value available at that index.  \n",
    "You can update single or multiple elements of lists by giving the slice on the left-hand side of the assignment operator, and you can add to elements in a list with the append() method. \n"
   ]
  },
  {
   "cell_type": "code",
   "execution_count": 2,
   "metadata": {},
   "outputs": [
    {
     "ename": "TypeError",
     "evalue": "can only concatenate list (not \"int\") to list",
     "output_type": "error",
     "traceback": [
      "\u001b[1;31m---------------------------------------------------------------------------\u001b[0m",
      "\u001b[1;31mTypeError\u001b[0m                                 Traceback (most recent call last)",
      "\u001b[1;32m<ipython-input-2-cc50544f1329>\u001b[0m in \u001b[0;36m<module>\u001b[1;34m\u001b[0m\n\u001b[1;32m----> 1\u001b[1;33m \u001b[0mint_list\u001b[0m \u001b[1;33m+\u001b[0m \u001b[1;36m2\u001b[0m\u001b[1;33m\u001b[0m\u001b[1;33m\u001b[0m\u001b[0m\n\u001b[0m",
      "\u001b[1;31mTypeError\u001b[0m: can only concatenate list (not \"int\") to list"
     ]
    }
   ],
   "source": [
    "int_list "
   ]
  },
  {
   "cell_type": "code",
   "execution_count": 8,
   "metadata": {},
   "outputs": [
    {
     "data": {
      "text/plain": [
       "1997"
      ]
     },
     "execution_count": 8,
     "metadata": {},
     "output_type": "execute_result"
    }
   ],
   "source": [
    "list1 = ['physics', 'chemistry', 1997, 2000]\n",
    "list1[2]"
   ]
  },
  {
   "cell_type": "code",
   "execution_count": 9,
   "metadata": {},
   "outputs": [
    {
     "data": {
      "text/plain": [
       "2001"
      ]
     },
     "execution_count": 9,
     "metadata": {},
     "output_type": "execute_result"
    }
   ],
   "source": [
    "list1[2] = 2001\n",
    "list1[2]"
   ]
  },
  {
   "cell_type": "code",
   "execution_count": 10,
   "metadata": {},
   "outputs": [
    {
     "data": {
      "text/plain": [
       "['physics', 'chemistry', 1, 2]"
      ]
     },
     "execution_count": 10,
     "metadata": {},
     "output_type": "execute_result"
    }
   ],
   "source": [
    "list1[2:] = [1, 2]\n",
    "list1"
   ]
  },
  {
   "cell_type": "markdown",
   "metadata": {},
   "source": [
    "#### Delete List Elements\n",
    "To remove a list element, you can use either the del statement if you know exactly which element(s) you are deleting or the remove() method if you do not know. "
   ]
  },
  {
   "cell_type": "code",
   "execution_count": 6,
   "metadata": {},
   "outputs": [
    {
     "name": "stdout",
     "output_type": "stream",
     "text": [
      "['physics', 'chemistry', 1, 2]\n",
      "After deleting value at index 2 : \n",
      "['physics', 'chemistry', 2]\n",
      "After deleting 'physics' value : \n",
      "['chemistry', 2]\n"
     ]
    }
   ],
   "source": [
    "print (list1)\n",
    "del list1[2];\n",
    "print (\"After deleting value at index 2 : \")\n",
    "print (list1)\n",
    "print (\"After deleting 'physics' value : \")\n",
    "list1.remove('physics')\n",
    "print (list1)"
   ]
  },
  {
   "cell_type": "markdown",
   "metadata": {},
   "source": [
    "#### Other Basic List Operations\n",
    "Lists respond to the + and * operators much like strings; they mean concatenation and repetition here too, except that the result is a new list, not a string.  \n",
    "In fact, lists respond to all of the general sequence operations we used on strings."
   ]
  },
  {
   "cell_type": "markdown",
   "metadata": {},
   "source": [
    "<img src=\"list_basic.png\" style=\"width: 500px;\">"
   ]
  },
  {
   "cell_type": "markdown",
   "metadata": {},
   "source": [
    "#### Indexing and Slicing"
   ]
  },
  {
   "cell_type": "markdown",
   "metadata": {},
   "source": [
    "Because lists are sequences, indexing and slicing work the same way for lists as they do for strings.  \n",
    "Slicing has 3 parameters:\n",
    "- start,\n",
    "- end,\n",
    "- step."
   ]
  },
  {
   "cell_type": "code",
   "execution_count": 12,
   "metadata": {},
   "outputs": [
    {
     "data": {
      "text/plain": [
       "list"
      ]
     },
     "execution_count": 12,
     "metadata": {},
     "output_type": "execute_result"
    }
   ],
   "source": [
    "Countries = ['Armenia', 'Russia', 'USA', 'France', 'Spain']\n",
    "type(Countries)"
   ]
  },
  {
   "cell_type": "code",
   "execution_count": 14,
   "metadata": {},
   "outputs": [
    {
     "data": {
      "text/plain": [
       "['Russia', 'France']"
      ]
     },
     "execution_count": 14,
     "metadata": {},
     "output_type": "execute_result"
    }
   ],
   "source": [
    "Countries[1:4:2]"
   ]
  },
  {
   "cell_type": "code",
   "execution_count": 2,
   "metadata": {},
   "outputs": [
    {
     "data": {
      "text/plain": [
       "['Armenia', 'Russia', 'USA', 'France', 'Spain']"
      ]
     },
     "execution_count": 2,
     "metadata": {},
     "output_type": "execute_result"
    }
   ],
   "source": [
    "Countries[:] # Return all"
   ]
  },
  {
   "cell_type": "code",
   "execution_count": 3,
   "metadata": {},
   "outputs": [
    {
     "data": {
      "text/plain": [
       "'France'"
      ]
     },
     "execution_count": 3,
     "metadata": {},
     "output_type": "execute_result"
    }
   ],
   "source": [
    "Countries[3] #Returs x3"
   ]
  },
  {
   "cell_type": "code",
   "execution_count": 4,
   "metadata": {},
   "outputs": [
    {
     "data": {
      "text/plain": [
       "['France', 'Spain']"
      ]
     },
     "execution_count": 4,
     "metadata": {},
     "output_type": "execute_result"
    }
   ],
   "source": [
    "Countries[3:] # Return x3,....,xn-1"
   ]
  },
  {
   "cell_type": "code",
   "execution_count": 5,
   "metadata": {},
   "outputs": [],
   "source": [
    "v=Countries[:3] #Returns x0,...,x3-1"
   ]
  },
  {
   "cell_type": "code",
   "execution_count": 6,
   "metadata": {},
   "outputs": [
    {
     "data": {
      "text/plain": [
       "['Russia', 'USA']"
      ]
     },
     "execution_count": 6,
     "metadata": {},
     "output_type": "execute_result"
    }
   ],
   "source": [
    "Countries[1:3] #Returns x1,....,x3-1"
   ]
  },
  {
   "cell_type": "code",
   "execution_count": 7,
   "metadata": {},
   "outputs": [
    {
     "data": {
      "text/plain": [
       "['Armenia', 'USA', 'Spain']"
      ]
     },
     "execution_count": 7,
     "metadata": {},
     "output_type": "execute_result"
    }
   ],
   "source": [
    "Countries[::2] # returns x0,x0+2,..."
   ]
  },
  {
   "cell_type": "code",
   "execution_count": 8,
   "metadata": {},
   "outputs": [
    {
     "data": {
      "text/plain": [
       "'Spain'"
      ]
     },
     "execution_count": 8,
     "metadata": {},
     "output_type": "execute_result"
    }
   ],
   "source": [
    "Countries[-1] # returns xn-1"
   ]
  },
  {
   "cell_type": "code",
   "execution_count": 9,
   "metadata": {},
   "outputs": [
    {
     "data": {
      "text/plain": [
       "['France', 'Spain']"
      ]
     },
     "execution_count": 9,
     "metadata": {},
     "output_type": "execute_result"
    }
   ],
   "source": [
    "Countries[-2:] #Returns xn-2,...,xn-1"
   ]
  },
  {
   "cell_type": "code",
   "execution_count": 10,
   "metadata": {},
   "outputs": [
    {
     "data": {
      "text/plain": [
       "['Armenia', 'Russia']"
      ]
     },
     "execution_count": 10,
     "metadata": {},
     "output_type": "execute_result"
    }
   ],
   "source": [
    "Countries[:-3] #Returns x0,....,xn-3-1"
   ]
  },
  {
   "cell_type": "markdown",
   "metadata": {},
   "source": [
    "#### Built-in List Functions & Methods\n",
    "Python includes the following list functions:"
   ]
  },
  {
   "cell_type": "markdown",
   "metadata": {},
   "source": [
    "<img src=\"list_funcs.png\" style=\"width: 500px;\">"
   ]
  },
  {
   "cell_type": "markdown",
   "metadata": {},
   "source": [
    "Python includes following list methods"
   ]
  },
  {
   "cell_type": "markdown",
   "metadata": {},
   "source": [
    "<img src=\"list_methods.png\" style=\"width: 500px;\">"
   ]
  },
  {
   "cell_type": "markdown",
   "metadata": {},
   "source": [
    "# Tuple"
   ]
  },
  {
   "cell_type": "markdown",
   "metadata": {},
   "source": [
    "The tuple class provides an immutable version of a list. There is one important subtlety. To express a tuple of length one as a literal, a comma must be placed after the element, but within the parentheses. For example, (17,) is a one-element tuple. The reason for this requirement is that, without the trailing comma, the expression (17) is viewed as a simple parenthesized numeric expression."
   ]
  },
  {
   "cell_type": "code",
   "execution_count": null,
   "metadata": {},
   "outputs": [],
   "source": [
    "empty_tuple = () # same as empty_list = tuple()\n",
    "one_element_tuple = (7,) # (7) will be integer\n",
    "str_tuple = ('red', 'green', 'blue')\n",
    "int_tuple = (1, 2, 3, 4, 5)\n",
    "mixed_tuple = (1, 'dog', 3.5)\n",
    "prime1 = 2\n",
    "prime2 = 3\n",
    "primes_tuple = (prime1, prime2)"
   ]
  },
  {
   "cell_type": "markdown",
   "metadata": {},
   "source": [
    "# String"
   ]
  },
  {
   "cell_type": "markdown",
   "metadata": {},
   "source": [
    "Strings in python are immutable contiguous series of characters delimited by single or double quotes.  \n",
    "Python don’t have any separate data type for characters so they are represented as a single character string."
   ]
  },
  {
   "cell_type": "code",
   "execution_count": 8,
   "metadata": {},
   "outputs": [
    {
     "name": "stdout",
     "output_type": "stream",
     "text": [
      "Hello World! \n",
      "Hello World! Hello World! \n",
      "Hello World! TEST\n"
     ]
    }
   ],
   "source": [
    "stra = 'Hello World! '\n",
    "\n",
    "print (str)          # Prints complete string\n",
    "print (str * 2)      # Prints string two times\n",
    "print (str + \"TEST\") # Prints concatenated string"
   ]
  },
  {
   "cell_type": "markdown",
   "metadata": {},
   "source": [
    "Python accepts single ('), double (\") and triple (''' or \"\"\") quotes to denote string literals, as long as the same type of quote starts and ends the string.\n",
    "The triple quotes are used to span the string across multiple lines. For example, all the following are acceptable."
   ]
  },
  {
   "cell_type": "code",
   "execution_count": 1,
   "metadata": {
    "scrolled": false
   },
   "outputs": [
    {
     "name": "stdout",
     "output_type": "stream",
     "text": [
      "word\n",
      "This is a sentence.\n",
      "Don't worry\n",
      "This is a paragraph. It is\n",
      "made up of multiple lines and sentences.\n"
     ]
    }
   ],
   "source": [
    "print ('word')\n",
    "print (\"This is a sentence.\")\n",
    "print ('Don\\'t worry')\n",
    "print (\"\"\"This is a paragraph. It is\n",
    "made up of multiple lines and sentences.\"\"\")"
   ]
  },
  {
   "cell_type": "markdown",
   "metadata": {},
   "source": [
    "### Metacharacters\n",
    "\n",
    "Metacharacters are special characters that when included in a string do specific operation with it. There is a list of metacharacters (escape characters (\\n, \\t, \\a, etc.)) that can be represented with backslash notation.  \n",
    "An escape character gets interpreted; in a single quoted as well as double quoted strings.  \n",
    "\n",
    "\\n = linefeed (prints the stuff after this on the next line)\n",
    "<br>\n",
    "\\’ = print a single quote ( ‘ ) in your text\n",
    "<br>\n",
    "\\” = print a double quote ( “ ) in your text\n",
    "<br>\n",
    "\\\\ = print a backslash ( \\ ) in your text"
   ]
  },
  {
   "cell_type": "markdown",
   "metadata": {},
   "source": [
    "### Raw string"
   ]
  },
  {
   "cell_type": "markdown",
   "metadata": {},
   "source": [
    "A \"raw\" string literal is prefixed by an 'r' and passes all the chars through without special treatment of backslashes, so r'x\\nx' evaluates to the length-4 string 'x\\nx'. "
   ]
  },
  {
   "cell_type": "code",
   "execution_count": 16,
   "metadata": {},
   "outputs": [
    {
     "name": "stdout",
     "output_type": "stream",
     "text": [
      "Hello\n",
      "World\n",
      "Hello\\nWorld\n",
      "C:\\Python\\\n",
      "C:\\\\Python\\\\\n"
     ]
    }
   ],
   "source": [
    "print (\"Hello\\nWorld\")\n",
    "print (r\"Hello\\nWorld\")\n",
    "print ('C:\\\\Python\\\\')\n",
    "print (r'C:\\\\Python\\\\')"
   ]
  },
  {
   "cell_type": "code",
   "execution_count": 2,
   "metadata": {},
   "outputs": [
    {
     "name": "stdout",
     "output_type": "stream",
     "text": [
      "Name\n",
      "Surname\n"
     ]
    }
   ],
   "source": [
    "print(\"Name\\nSurname\")"
   ]
  },
  {
   "cell_type": "markdown",
   "metadata": {},
   "source": [
    "### String Operations\n",
    "Below is a list of String specific operations.\n",
    "\n",
    "| Operator | Description | Example |\n",
    "| ---|------|------|\n",
    "| + | Concatenation - Adds values on either side of the operator |a + b will give HelloPython |\n",
    "| * | Repetition - Creates new strings, concatenating multiple copies of the same string|a*2 will give -HelloHello|\n",
    "| [] | \tSlice - Gives the character from the given index |a[1:4] will give ell|\n",
    "| [ start:end:step] | Range Slice - Gives the characters from the given range | a[1] will give e |\n",
    "| in | \tMembership - Returns true if a character exists in the given string | H in a will give 1|\n",
    "| not in | Membership - Returns true if a character does not exist in the given string |M not in a will give 1 |\n",
    "| % | Format - Performs String formatting|See at next section|"
   ]
  },
  {
   "cell_type": "code",
   "execution_count": 27,
   "metadata": {},
   "outputs": [
    {
     "name": "stdout",
     "output_type": "stream",
     "text": [
      "+ Hello World!\n",
      "* Hello Hello Hello \n",
      "slice e\n",
      "range slice el\n",
      "in True\n",
      "not in False\n",
      "\\nHello\\n\n",
      "Hello \n",
      "Hlo\n",
      "Hell\n",
      "llo \n",
      " olleH\n"
     ]
    }
   ],
   "source": [
    "a = 'Hello '\n",
    "b = 'World!'\n",
    "print ('+', a+b)\n",
    "print ('*', a*3)\n",
    "print ('slice', a[1])\n",
    "print ('range slice', a[1:3])\n",
    "print ('in', 'e' in a)\n",
    "print ('not in', 'e' not in a)\n",
    "print (r'\\nHello\\n')\n",
    "\n",
    "print(a[::])\n",
    "print(a[::2])\n",
    "print(a[:4])\n",
    "print(a[2:])\n",
    "print(a[::-1])"
   ]
  },
  {
   "cell_type": "markdown",
   "metadata": {},
   "source": [
    "### Formatting with str.format()\n",
    "This section contains examples of the str.format() syntax.\n",
    "In most of the cases the syntax is similar to the old %-formatting, with the addition of the {} and with \":\" used instead of \"%\"."
   ]
  },
  {
   "cell_type": "markdown",
   "metadata": {},
   "source": [
    "Accessing arguments by position:"
   ]
  },
  {
   "cell_type": "code",
   "execution_count": 19,
   "metadata": {},
   "outputs": [
    {
     "name": "stdout",
     "output_type": "stream",
     "text": [
      "Mane got 5 in Mathematics\n",
      "a some text b some text c\n",
      "something c some b something a\n",
      " text c text b text a\n",
      "abracadabra\n"
     ]
    }
   ],
   "source": [
    "print('{0} got {1} in {2}'.format('Mane', '5', 'Mathematics'))\n",
    "print('{} some text {} some text {}'.format('a', 'b', 'c'))\n",
    "print('something {2} some {1} something {0}'.format('a', 'b', 'c'))\n",
    "print(' text {2} text {1} text {0}'.format(*'abc'))      # unpacking argument sequence\n",
    "print('{0}{1}{0}'.format('abra', 'cad'))   # arguments' indices can be repeated"
   ]
  },
  {
   "cell_type": "markdown",
   "metadata": {},
   "source": [
    " More on formatting: <br> \n",
    " https://docs.python.org/3.1/library/string.html#string-formatting,\n",
    " <br>\n",
    " https://docs.python.org/3/library/stdtypes.html#old-string-formatting"
   ]
  },
  {
   "cell_type": "markdown",
   "metadata": {},
   "source": [
    "### Built-in String Methods\n",
    "Below are frequently used built-in methods for string:\n",
    "<br>\n",
    "<br>\n",
    "**len(string)**\n",
    "<br>\n",
    "Returns the length of the string.\n",
    "<br>\n",
    "<br>\n",
    "**capitalize()**\n",
    "<br>\n",
    "Capitalizes first letter of string\n",
    "<br>\n",
    "<br>\n",
    "**count(str, beg= 0,end=len(string))**\n",
    "<br>\n",
    "Counts how many times str occurs in string or in a substring of string if starting index beg and ending index end are given.\n",
    "<br>\n",
    "<br>\n",
    "**endswith(suffix, beg=0, end=len(string))**\n",
    "<br>\n",
    "Determines if string or a substring of string (if starting index beg and ending index end are given) ends with suffix; returns true if so and false otherwise.\n",
    "<br>\n",
    "<br>\n",
    "**find(str, beg=0 end=len(string))**\n",
    "<br>\n",
    "Determine if str occurs in string or in a substring of string if starting index beg and ending index end are given returns index if found and -1 otherwise.\n",
    "**isdigit()**\n",
    "<br>\n",
    "Returns true if string contains only digits and false otherwise.\n",
    "<br>\n",
    "<br>\n",
    "**islower()**\n",
    "<br>\n",
    "Returns true if string has at least 1 cased character and all cased characters are in lowercase and false otherwise.\n",
    "<br>\n",
    "<br>\n",
    "**replace(old, new [, max])**\n",
    "<br>\n",
    "Replaces all occurrences of old in string with new or at most max occurrences if max given.\n",
    "<br>\n",
    "<br>\n",
    "**split(str=\"\", num=string.count(str))**\n",
    "<br>\n",
    "Splits string according to delimiter str (space if not provided) and returns list of substrings; split into at most num substrings if given.\n",
    "<br>\n",
    "<br>\n",
    "**strip([chars])**\n",
    "<br>\n",
    "Performs both lstrip() and rstrip() on string.\n",
    "<br>\n",
    "<br>\n",
    "**join(seq)**\n",
    "<br>\n",
    "Merges (concatenates) the string representations of elements in sequence seq into a string, with separator string."
   ]
  },
  {
   "cell_type": "code",
   "execution_count": 23,
   "metadata": {},
   "outputs": [
    {
     "name": "stdout",
     "output_type": "stream",
     "text": [
      "23\n",
      "I am a data scientist! \n",
      "4\n",
      "True\n",
      "False\n",
      "2\n",
      "False\n",
      "You are a Data Scientist! \n",
      "i am a Data Scientist!\n",
      "['i', 'am', 'a', 'Data', 'Scientist!']\n",
      "['i ', ' a Data Scientist! ']\n"
     ]
    }
   ],
   "source": [
    "rstring=\"i am a Data Scientist! \"\n",
    "\n",
    "print(len(rstring))\n",
    "print(rstring.capitalize())\n",
    "print(rstring.count(\"a\"))\n",
    "print(rstring.endswith(\" \"))\n",
    "print(rstring.endswith(\"!\"))\n",
    "print(rstring.find(\"am\"))\n",
    "print(rstring.islower())\n",
    "print(rstring.replace(\"i am\",\"You are\"))\n",
    "print(rstring.strip())\n",
    "print(rstring.split())\n",
    "\n",
    "splitter=\"am\"\n",
    "print(rstring.split(\"am\"))"
   ]
  },
  {
   "cell_type": "code",
   "execution_count": 22,
   "metadata": {},
   "outputs": [
    {
     "data": {
      "text/plain": [
       "'a!b!c!d'"
      ]
     },
     "execution_count": 22,
     "metadata": {},
     "output_type": "execute_result"
    }
   ],
   "source": [
    "\"!\".join([\"a\",\"b\",\"c\",\"d\"])"
   ]
  },
  {
   "cell_type": "markdown",
   "metadata": {
    "collapsed": true
   },
   "source": [
    "# Dictionary\n",
    "Each key is separated from its value by a colon (:), the items are separated by commas, and the whole thing is enclosed in curly braces. An empty dictionary without any items is written with just two curly braces, like this: {}.\n",
    "Keys are unique within a dictionary while values may not be. The values of a dictionary can be of any type, but the keys must be of an immutable data type such as strings, numbers, or tuples."
   ]
  },
  {
   "cell_type": "code",
   "execution_count": 1,
   "metadata": {},
   "outputs": [
    {
     "name": "stdout",
     "output_type": "stream",
     "text": [
      "{}\n",
      "{'r': 'Red', 'g': 'Green', 'b': 'Blue'}\n",
      "{'r': 'Red', 'g': 'Green', 'b': 'Blue'}\n"
     ]
    }
   ],
   "source": [
    "empty = {}     # empty dictionary\n",
    "print (empty)\n",
    "color_dict = {'r': 'Red', 'g': 'Green', 'b': 'Blue'} # list with initial values\n",
    "print (color_dict)\n",
    "color_dict = dict([('r', 'Red'), ('g', 'Green'), ('b', 'Blue')]) # list with initial values\n",
    "print (color_dict)"
   ]
  },
  {
   "cell_type": "markdown",
   "metadata": {},
   "source": [
    "### Accessing Values in Dictionary\n",
    "To access dictionary elements, you can use the familiar square brackets along with the key to obtain its value."
   ]
  },
  {
   "cell_type": "code",
   "execution_count": 2,
   "metadata": {},
   "outputs": [
    {
     "name": "stdout",
     "output_type": "stream",
     "text": [
      "Red\n"
     ]
    }
   ],
   "source": [
    "print (color_dict['r'])"
   ]
  },
  {
   "cell_type": "markdown",
   "metadata": {},
   "source": [
    "If we attempt to access a data item with a key, which is not part of the dictionary, we get an error as follows:"
   ]
  },
  {
   "cell_type": "code",
   "execution_count": 3,
   "metadata": {},
   "outputs": [
    {
     "ename": "KeyError",
     "evalue": "'h'",
     "output_type": "error",
     "traceback": [
      "\u001b[1;31m---------------------------------------------------------------------------\u001b[0m",
      "\u001b[1;31mKeyError\u001b[0m                                  Traceback (most recent call last)",
      "\u001b[1;32m<ipython-input-3-16ce09b87e60>\u001b[0m in \u001b[0;36m<module>\u001b[1;34m()\u001b[0m\n\u001b[1;32m----> 1\u001b[1;33m \u001b[0mprint\u001b[0m \u001b[1;33m(\u001b[0m\u001b[0mcolor_dict\u001b[0m\u001b[1;33m[\u001b[0m\u001b[1;34m'h'\u001b[0m\u001b[1;33m]\u001b[0m\u001b[1;33m)\u001b[0m\u001b[1;33m\u001b[0m\u001b[0m\n\u001b[0m",
      "\u001b[1;31mKeyError\u001b[0m: 'h'"
     ]
    }
   ],
   "source": [
    "print (color_dict['h'])"
   ]
  },
  {
   "cell_type": "markdown",
   "metadata": {},
   "source": [
    "### Updating Dictionary\n",
    "You can update a dictionary by adding a new entry or a key-value pair, modifying an existing entry, or deleting an existing entry as shown below in the simple example:"
   ]
  },
  {
   "cell_type": "code",
   "execution_count": 24,
   "metadata": {},
   "outputs": [
    {
     "name": "stdout",
     "output_type": "stream",
     "text": [
      "8\n",
      "DPS School\n"
     ]
    }
   ],
   "source": [
    "stu = {'Name': 'Zara', 'Age': 7, 'Class': 'First'}\n",
    "\n",
    "stu['Age'] = 8; # update existing entry\n",
    "stu['School'] = \"DPS School\"; # Add new entry\n",
    "stu[\"Father Name\"]=\"Babken\"\n",
    "\n",
    "print (stu['Age'])\n",
    "print (stu['School'])"
   ]
  },
  {
   "cell_type": "markdown",
   "metadata": {},
   "source": [
    "### Delete Dictionary Elements\n",
    "You can either remove individual dictionary elements or clear the entire contents of a dictionary. You can also delete entire dictionary in a single operation.\n",
    "\n",
    "To explicitly remove an entire dictionary, just use the del statement."
   ]
  },
  {
   "cell_type": "code",
   "execution_count": 26,
   "metadata": {},
   "outputs": [
    {
     "name": "stdout",
     "output_type": "stream",
     "text": [
      "{'Age': 7, 'Class': 'First'}\n",
      "{}\n"
     ]
    },
    {
     "ename": "NameError",
     "evalue": "name 'stu' is not defined",
     "output_type": "error",
     "traceback": [
      "\u001b[1;31m---------------------------------------------------------------------------\u001b[0m",
      "\u001b[1;31mNameError\u001b[0m                                 Traceback (most recent call last)",
      "\u001b[1;32m<ipython-input-26-77e289ec3cb4>\u001b[0m in \u001b[0;36m<module>\u001b[1;34m\u001b[0m\n\u001b[0;32m      5\u001b[0m \u001b[0mprint\u001b[0m \u001b[1;33m(\u001b[0m\u001b[0mstu\u001b[0m\u001b[1;33m)\u001b[0m\u001b[1;33m\u001b[0m\u001b[1;33m\u001b[0m\u001b[0m\n\u001b[0;32m      6\u001b[0m \u001b[1;32mdel\u001b[0m \u001b[0mstu\u001b[0m        \u001b[1;31m# delete entire dictionary\u001b[0m\u001b[1;33m\u001b[0m\u001b[1;33m\u001b[0m\u001b[0m\n\u001b[1;32m----> 7\u001b[1;33m \u001b[0mprint\u001b[0m \u001b[1;33m(\u001b[0m\u001b[0mstu\u001b[0m\u001b[1;33m[\u001b[0m\u001b[1;34m'Age'\u001b[0m\u001b[1;33m]\u001b[0m\u001b[1;33m)\u001b[0m\u001b[1;33m\u001b[0m\u001b[1;33m\u001b[0m\u001b[0m\n\u001b[0m",
      "\u001b[1;31mNameError\u001b[0m: name 'stu' is not defined"
     ]
    }
   ],
   "source": [
    "stu = {'Name': 'Zara', 'Age': 7, 'Class': 'First'}\n",
    "del stu['Name'] # remove entry with key 'Name'\n",
    "print (stu)\n",
    "stu.clear()     # remove all entries in dict\n",
    "print (stu)\n",
    "del stu        # delete entire dictionary\n",
    "print (stu['Age'])"
   ]
  },
  {
   "cell_type": "markdown",
   "metadata": {},
   "source": [
    "### Built-in Dictionary Functions & Methods\n",
    "Python includes the following dictionary operations\n",
    "\n",
    "<img src=\"dict_ops.png\" style=\"width: 800px;\">\n"
   ]
  },
  {
   "cell_type": "code",
   "execution_count": 36,
   "metadata": {},
   "outputs": [
    {
     "name": "stdout",
     "output_type": "stream",
     "text": [
      "{'a': 3, 'b': 4, 'c': 9}\n",
      "[('a', 3), ('b', 4), ('c', 9)]\n",
      "['a', 'b', 'c']\n",
      "[3, 4, 9]\n",
      "{'a': 3, 'b': 4, 'c': 9, 'k': 6}\n",
      "{'a': 3, 'b': 4, 'c': 9, 'k': 6, 10: 'ten'}\n"
     ]
    }
   ],
   "source": [
    "a = {\"a\": 3, \"b\": 4, \"c\": 9}\n",
    "print (a)\n",
    "print (list(a.items())) # gettinh items of the dictionary\n",
    "print (list(a.keys())) # gettinh keys of the dictionary\n",
    "print (list(a.values())) # getting the values of the dictionary\n",
    "a[\"k\"] = 6\n",
    "print(a)\n",
    "a.update({10:\"ten\"}) # Adding new key value pair to dictionary\n",
    "print(a)"
   ]
  },
  {
   "cell_type": "markdown",
   "metadata": {},
   "source": [
    "## set\n",
    "A set object is an unordered collection of values. Common uses include membership testing, removing duplicates from a sequence, and computing mathematical operations such as intersection, union, difference, and symmetric difference.   \n",
    "\n",
    "Python uses curly braces { and } as delimiters for a set. The exception to this rule is that { } does not represent an empty set; for historical reasons, it represents an empty dictionary. Instead, the constructor syntax set( ) produces an empty set."
   ]
  },
  {
   "cell_type": "code",
   "execution_count": 47,
   "metadata": {},
   "outputs": [
    {
     "name": "stdout",
     "output_type": "stream",
     "text": [
      "{17}\n",
      "{'green', 'red', 'blue'}\n",
      "{'e', 'o', 'l', 'h'}\n"
     ]
    }
   ],
   "source": [
    "num_set = {17} # set with one element\n",
    "print (num_set)\n",
    "colors = {'red', 'green', 'blue'} # set with 3 elements\n",
    "print (colors)\n",
    "hello = set('hello') # will keep unique letters of string \"Hello\"\n",
    "print (hello)"
   ]
  },
  {
   "cell_type": "markdown",
   "metadata": {},
   "source": [
    "Instances of set provide the following operations:\n",
    "<img src=\"set_ops.png\" style=\"width: 700px;\">"
   ]
  },
  {
   "cell_type": "markdown",
   "metadata": {},
   "source": [
    "The following table lists operations available for set:\n",
    "<img src=\"only_set_ops.png\" style=\"width: 1300px;\">"
   ]
  },
  {
   "cell_type": "code",
   "execution_count": 48,
   "metadata": {},
   "outputs": [
    {
     "name": "stdout",
     "output_type": "stream",
     "text": [
      "{1, 2, 6}\n"
     ]
    }
   ],
   "source": [
    "s1 = set([1, 2])\n",
    "s2 = set([3, 4])\n",
    "print (s1.union({6}))"
   ]
  },
  {
   "cell_type": "markdown",
   "metadata": {},
   "source": [
    "Sets support set to set comparisons. Two sets are equal if and only if every element of each set is contained in the other (each is a subset of the other). A set is less than another set if and only if the first set is a proper subset of the second set (is a subset, but is not equal). A set is greater than another set if and only if the first set is a proper superset of the second set (is a superset, but is not equal)."
   ]
  },
  {
   "cell_type": "code",
   "execution_count": 49,
   "metadata": {},
   "outputs": [
    {
     "name": "stdout",
     "output_type": "stream",
     "text": [
      "True\n",
      "{1, 2, 4}\n",
      "False False False\n"
     ]
    }
   ],
   "source": [
    "c = {1, 2, 3}\n",
    "d = {1, 2, 3, 4}\n",
    "print (c < d)\n",
    "d.remove(3)\n",
    "print (d)\n",
    "print (c < d, c > d, c == d)"
   ]
  },
  {
   "cell_type": "markdown",
   "metadata": {},
   "source": [
    "#### Union, intersection, difference and symmetric difference"
   ]
  },
  {
   "cell_type": "code",
   "execution_count": 50,
   "metadata": {},
   "outputs": [],
   "source": [
    "a = set('abracadabra')\n",
    "b = set('alacazam')"
   ]
  },
  {
   "cell_type": "code",
   "execution_count": 51,
   "metadata": {},
   "outputs": [
    {
     "data": {
      "text/plain": [
       "{'a', 'b', 'c', 'd', 'r'}"
      ]
     },
     "execution_count": 51,
     "metadata": {},
     "output_type": "execute_result"
    }
   ],
   "source": [
    "a                                  # unique letters in a"
   ]
  },
  {
   "cell_type": "code",
   "execution_count": 52,
   "metadata": {},
   "outputs": [
    {
     "data": {
      "text/plain": [
       "{'a', 'c', 'l', 'm', 'z'}"
      ]
     },
     "execution_count": 52,
     "metadata": {},
     "output_type": "execute_result"
    }
   ],
   "source": [
    "b                                  # unique letters in b"
   ]
  },
  {
   "cell_type": "code",
   "execution_count": 53,
   "metadata": {},
   "outputs": [
    {
     "data": {
      "text/plain": [
       "{'a', 'b', 'c', 'd', 'l', 'm', 'r', 'z'}"
      ]
     },
     "execution_count": 53,
     "metadata": {},
     "output_type": "execute_result"
    }
   ],
   "source": [
    "a | b                              # letters in a or b or both"
   ]
  },
  {
   "cell_type": "code",
   "execution_count": 54,
   "metadata": {},
   "outputs": [
    {
     "data": {
      "text/plain": [
       "{'a', 'c'}"
      ]
     },
     "execution_count": 54,
     "metadata": {},
     "output_type": "execute_result"
    }
   ],
   "source": [
    "a & b                              # letters in both a and b"
   ]
  },
  {
   "cell_type": "code",
   "execution_count": 55,
   "metadata": {},
   "outputs": [
    {
     "data": {
      "text/plain": [
       "{'b', 'd', 'r'}"
      ]
     },
     "execution_count": 55,
     "metadata": {},
     "output_type": "execute_result"
    }
   ],
   "source": [
    "a - b                              # letters in a but not in b"
   ]
  },
  {
   "cell_type": "code",
   "execution_count": 56,
   "metadata": {},
   "outputs": [
    {
     "data": {
      "text/plain": [
       "{'b', 'd', 'l', 'm', 'r', 'z'}"
      ]
     },
     "execution_count": 56,
     "metadata": {},
     "output_type": "execute_result"
    }
   ],
   "source": [
    "a ^ b                              # letters in a or b but not both  (symmetric difference)"
   ]
  },
  {
   "cell_type": "markdown",
   "metadata": {},
   "source": [
    "# End"
   ]
  },
  {
   "cell_type": "code",
   "execution_count": null,
   "metadata": {},
   "outputs": [],
   "source": []
  }
 ],
 "metadata": {
  "kernelspec": {
   "display_name": "Python 3",
   "language": "python",
   "name": "python3"
  },
  "language_info": {
   "codemirror_mode": {
    "name": "ipython",
    "version": 3
   },
   "file_extension": ".py",
   "mimetype": "text/x-python",
   "name": "python",
   "nbconvert_exporter": "python",
   "pygments_lexer": "ipython3",
   "version": "3.7.3"
  }
 },
 "nbformat": 4,
 "nbformat_minor": 2
}
